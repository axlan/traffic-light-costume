{
 "cells": [
  {
   "cell_type": "code",
   "execution_count": 1,
   "id": "68e1ce1b",
   "metadata": {},
   "outputs": [],
   "source": [
    "import pynmea2\n",
    "import pandas as pd\n",
    "\n",
    "DATA_FILE = \"../data/walk_10_19.txt\"\n",
    "\n",
    "\n",
    "# https://receiverhelp.trimble.com/alloy-gnss/en-us/NMEA-0183messages_GST.html\n",
    "# https://receiverhelp.trimble.com/alloy-gnss/en-us/NMEA-0183messages_RMC.html\n",
    "#$GPGST,182330.00,18,,,,5.7,3.3,12*7A\n",
    "#$GPRMC,182331.00,A,3750.81870,N,12216.72288,W,0.092,,191025,,,A*6B\n",
    "\n",
    "std_data = {'timestamp':[], 'std_dev_latitude':[]}\n",
    "pose_data = {'timestamp':[], 'lat':[], 'lon':[], 'vel':[]}\n",
    "\n",
    "with open(DATA_FILE, 'r') as fd:\n",
    "    for line in fd.readlines():\n",
    "        try:\n",
    "            msg = pynmea2.parse(line)\n",
    "            #print(repr(msg))\n",
    "            if isinstance(msg, pynmea2.types.talker.RMC):\n",
    "                pose_data['timestamp'].append(msg.timestamp)\n",
    "                pose_data['lat'].append(msg.latitude)\n",
    "                pose_data['lon'].append(msg.longitude)\n",
    "                pose_data['vel'].append(msg.spd_over_grnd)\n",
    "            if isinstance(msg, pynmea2.types.talker.GST):\n",
    "                std_data['timestamp'].append(msg.timestamp)\n",
    "                std_data['std_dev_latitude'].append(msg.std_dev_latitude)\n",
    "        except pynmea2.ParseError as e:\n",
    "            print('Parse error: {}'.format(e))\n",
    "            continue\n",
    "\n",
    "pose_df = pd.DataFrame(pose_data)\n"
   ]
  },
  {
   "cell_type": "code",
   "execution_count": 2,
   "id": "042c793d",
   "metadata": {},
   "outputs": [
    {
     "data": {
      "application/vnd.plotly.v1+json": {
       "config": {
        "plotlyServerURL": "https://plot.ly"
       },
       "data": [
        {
         "customdata": {
          "bdata": "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",
          "dtype": "f8",
          "shape": "177, 3"
         },
         "hovertemplate": "East (m)=%{x}<br>North (m)=%{y}<br>lat=%{customdata[0]}<br>lon=%{customdata[1]}<br>Speed (knots)=%{marker.color}<extra></extra>",
         "legendgroup": "",
         "marker": {
          "color": {
           "bdata": "eekmMQisjD8ZBFYOLbK9P1pkO99Pjbc//tR46SYx5D8X2c73U+MBQOf7qfHSTQdA16NwPQrXB0BSuB6F61EHQJhuEoPAygVAi2zn+6nxB0A5tMh2vp8HQKabxCCwcglA2/l+arx0B0ASg8DKoUUIQKRwPQrXowhAKVyPwvUoBkBaZDvfT40FQNv5fmq8dA5AvHSTGARWCkCwcmiR7XwGQHE9CtejcAlAmG4Sg8BKFkAxCKwcWmQLQA4tsp3vpwdA3SQGgZVDC0BI4XoUrkcFQFK4HoXrUQVAg8DKoUW2CkBkO99PjZcEQK5H4XoUrghAg8DKoUW2BkDHSzeJQWAIQKAaL90kBgNAI9v5fmq8A0CF61G4HoUJQDm0yHa+nwZAK4cW2c73A0B/arx0kxgGQESLbOf7qQdA2/l+arx0BkCTGARWDi3mP30/NV66SfQ/9ihcj8L16D/P91PjpZvEP1TjpZvEIOg/okW28/3UyD8X2c73U+PVP9Ei2/l+arw/QmDl0CLbuT9U46WbxCDAP4cW2c73U8M/L90kBoGVwz+amZmZmZnZPyuHFtnO96M/d76fGi/d3D+R7Xw/NV7KP4XrUbgehcs/K4cW2c737z9oke18PzUDQFyPwvUoXAZA8tJNYhBYB0BU46WbxCADQMdLN4lBYARAvp8aL90kA0Dn+6nx0k0DQGDl0CLb+QNA5dAi2/l+BEBMN4lBYOX6P5huEoPAygJA6SYxCKwcAkC+nxov3SQCQAAAAAAAAAVA9P3UeOkmBEAv3SQGgZUEQKRwPQrXowFAO99PjZduBEBkO99PjZcHQN0kBoGVQwRAHVpkO99PBEC8dJMYBFYEQHnpJjEIrARA5/up8dJNBUC+nxov3SQEQFK4HoXrUQdAYOXQItv5/j+0yHa+nxoEQN0kBoGVQwNACKwcWmQ7AUBU46WbxCAEQNEi2/l+agNAZmZmZmZmBEBI4XoUrkcFQN0kBoGVQwFAsp3vp8ZLA0CJQWDl0CIEQJMYBFYOLQRAmG4Sg8DKAEBcj8L1KFwAQGIQWDm0yPg/bef7qfHS3T81XrpJDALLP2iR7Xw/Na4/XrpJDAIrxz9iEFg5tMi2PxkEVg4tsq0/aJHtfD81rj9qvHSTGASmPwrXo3A9Cqc/+n5qvHSTuD99PzVeukngP7gehetRuPA/bxKDwMqhxT/dJAaBlUPLPxBYObTIduI/uB6F61G4rj+F61G4HoXbP76fGi/dJOI/6SYxCKwc2j+oxks3iUH+P3e+nxov3QZAXrpJDAIrCEAj2/l+arwJQLByaJHtfARARIts5/upA0B3vp8aL90DQIts5/up8QNA7nw/NV46EECNl24Sg8APQGZmZmZmZgZA8KfGSzeJ/z9iEFg5tMgFQDVeukkMAgVAjZduEoPA9D8pXI/C9SjyP166SQwCK/s/bxKDwMqhAkDfT42XbhICQG3n+6nx0v0/BFYOLbKdCEA5tMh2vp8DQAwCK4cW2eI/Gy/dJAaB9T+gGi/dJAYHQPCnxks3iQBAtMh2vp8a4z/fT42XbhLTP6wcWmQ73/U/fT81XrpJ6D99PzVeukkIQPT91HjpJuk//Knx0k1i6D9iEFg5tMj0P/T91HjpJtk/IbByaJHt8D+iRbbz/dQBQNejcD0K1+M/CKwcWmQ76z/b+X5qvHT1P8/3U+Olm/A/8tJNYhBY8T9U46WbxCDoPy/dJAaBlQBAKVyPwvUo+D+PwvUoXI/wP/7UeOkmMfY/9ihcj8L18j/ZzvdT46XrP+58PzVeusk/jZduEoPAyj/pJjEIrBzKP9v5fmq8dOc/lkOLbOf72T8CK4cW2c7vP+XQItv5fvA/5/up8dJN4j9mZmZmZmbiP6jGSzeJQeQ/",
           "dtype": "f8"
          },
          "coloraxis": "coloraxis",
          "symbol": "circle"
         },
         "mode": "lines+markers",
         "name": "",
         "orientation": "v",
         "showlegend": false,
         "type": "scatter",
         "x": {
          "bdata": "AAAAAAAAAAD4PDsILQGOvwAAAAAAAAAAx/C+2D/hz7+sP8DLuYTyv0GkZm/LRgTAn1A0zqWGEMBC9igh5LwWwJDMgFYeihzAGrm6VC5gIcDfweoFzFUkwO5PbVzsjifAIYVj7wqbKsA8JsWRJlwtwBNk71UkYTDARXfJeXPjMcBMxc+OQDEzwE7ZYSqWWDXAyXGO82ceN8BdZ+SAtpE4wHbmKbQCyTnA/roWItxRPMB/SMJkJT49wNwnNYEzpj7AQUZ9IeIoQMCKxArdJ7tAwAIeYXruY0HAlRp88XmIQsBoMSk8fw9DwNNfTewlukPA6dYnIO1xRMDINx/jcx5FwFcNt88YnEXA27BX5WBqRsBJ1ljdpM9GwJNU5pjqYUfAB58MTe/ZR8Cs2vC1c0pIwF1gH5d54EjAQuY7FsGfScDqNxVSRPJJwOowUGgHQUrAcdKSryl7SsCSgimkipNKwGKRa+8Km0rAAK/vhQuqSsBotpCry61KwGWgm9jMy0rACeNEK47tSsCZoIl2DvVKwHT5FToQIkvAKH3mTPAjS8D3iyiYcCtLwCVn8XnxQUvAXH3U6jFNS8DKqZrMsmNLwDGxO/JyZ0vA94somHArS8Cctn5JDddKwDrDdCgmIUrAApwDAP5QScAIsJoE155IwCAUibKQ/UfAQ8mGwggzR8CSQ1jhAp1GwJ58FKKc/UXATtlhKpZYRcCOEgyJceJEwMcmkSuMWUTAt9Tbs4W0Q8C60n3lXyBDwMDmFOo4bkLAZBgwhRLLQcBFZjvCix5BwLimmKjlgkDAOA5th36/P8A37FAYrzU+wBEjwWzh2DzAqPkD2FFLO8CCMHQshO45wI1YojU2ijjAVhnea+lDN8AkBgRImsE1wJY103YMYTTAcWV+4QFTM8CUIUHbtjkywMsOQ/PqCTHA9PI0nryOL8B4OOxlGz8swCymzA6AhSnAyXGO82ceJ8CjeFgFUdUkwGQwgyY3QSLAz1lLNTgeH8CnDlOVCF8awLDrg9beNRbAG6swgbT9EcBQW8oe+LoIwG8EuJ64ZgLAn1A0zqWGAMDEZX5jsJQBwNxn6ay/GgPAkxkCNMN0A8AZo/HZwDgDwCl+qNfUNgXA3y/BXtiQBcAQWOo/3iYGwLv2I3vm+AbAjZbSS/nYCMDj00XCCX0KwFT/ToIppw3Aq2MTGqEOEMBuluFFrCsRwOgM8p+uZxHAoTQgJ7LBEcBWAk1VqeAQwCXaI3SjShDAYBIuziQvDcDBhtPeF+ULwCaf/VI8hw/AYBIuziQvDcBigwL6sKMRwHB6zZ64ZhLArbXVy7mEEsAQfD2OxbATwPhVf/bOoBTA7EKgqtMYFcBBEj3I14EVwMh/GMfhgBbAjEQQmuBiFsBcbqlq80IYwL6++yz/bhnAsj1GiPerGMClvJDj7+gXwNWS9xLdCBbAHP3yMs1zFMBiFSyhpGgQwF1KVhwMuQrAvpqo3hfl+78oibc3GiHcvz7cjr2y0OG/FXpX+M6gxD+SbihM+dj4P2PaBYA9pf8/ZQFXoaRoAEBx8OKeuGYCQCii+yW8wAJAEHw9jsWwA0AK+Q2m+xQJQO8KeFzsjgdAyvUtx+GABkBj2gWAPaX/P+uKRkeiLABArivry7mEAkCl4OMx13IFQG/t5Ms4Lf8/Z+2BoaRo8D/onhtHoizwP7ThXpn0YMg/iSGwlvRg2L+4Cvl65vjmvwF9M0LKKPS/Qa91zxAx27/4PDsILQGOP0r87YQVqes/DC3fQsoo5D/pY/UlO2nvPw2dkgktAd4/oT32Ei0Brj+tVZFsB0G6Pya20CW8wOK/0TC3Et0I5r8mttAlvMDyv2ldNWgHQfq/GcdEKKjCAMCmdOpGIdX8v61VkWwHQbo/",
          "dtype": "f8"
         },
         "xaxis": "x",
         "y": {
          "bdata": "AAAAAAAAAAAAcAFnbveivwD845WAmMC/ADzyLVxW1b8AvZU486vqv4Ad0ln1Ofa/gJRXpDWG/r9Adq7+syYAwACA0j1dHQPAwN1zUG0wBcCAr5kC0r4IwEDxu86/HQvAAKWed5yiDcAAM96arXwNwMCOu+pXOg7AQFovuJFyEMAgtQLusl8SwCAK4qLMJhLAINLjFYi+EsDg9cLY7RMUwMDB9AlLfBXAAEjUsBi1E8Cg/+YXlwoXwIAEebfrhRjAgAMX1jjbF8BA8FntDHMawAAz3pqtfB3AADJ8ufrRHMDAO6D4o8gfwMDMoAXa7SDAMHqKoGrkIcCQRQthbvciwOAvhSiY0STA0DL/6JvkJcCgjogcW48nwPAGQgeWQynAULZDgXeiKsCgZ13aqWkswADe/uWTtS3A4HDQqPkKL8BQyHitvY8vwOAb8fPfQy/A4P4PzArlLsBgqX+ml8guwGBwHzigtS7A4IxP7xu/LsBg4t8Uj9suwPDDl37CaS7AcBkopDWGLsDwNVhbsY8uwIAWruMxcy3AgDOPCwfSLcAQo4aYSzotwAAXX1SLyC3A8MOXfsJpLsDwbrjJqKIuwODikIXoMC/A4P4PzArlLsCA3q9W7QouwAClnnecoi3AkIZW4c8wLcCgS96Th7UswMAqza0QhivAULZDgXeiKsDg0FtZokMqwHBc0iwJYCnAgHY5lNqrKMAQ5jAhHxQowCByWGXfhSfAoKoHY31DJ8Aw4Z6BypgmwFDdbsMoyCXAYBNVcRzIJMDgvcRLqaskwADz9Pv+7SPAkNNKhH/RIsAgfKJ/u0wiwKBfcsg/QyLAoAqTEyZ8IsAgQ0IRxDkiwDAlq+tQHSLAQD8SUyJpIcBQktko68cgwNCRKLiRciDA4DdwOgL4HsAA3ZwE4QodwEBH/WSMjxvAQNU8iJ1pG8BAKbpbBIYawICvmQLSvhjAoDhHho4dF8DA+lR4Qo8VwAAsVWr2ABTA4PXC2O0TFMAADhJhbvcSwGDloP6zJhDAAL9Z+1gBDMBA1TyInWkLwIA92SXjmAjAgDsVY31DB8DAifZ8BhQGwMDdc1BtMAXAAGRT9zppA8DA+fKWj+QEwMD58paP5ATAwN83E9OFBsCAV5Spn/cGwMCJ9nwGFAbAwE80LVxWBcDAifZ8BhQGwMCldcMoyAXAwKOxAMNyBMAA1E8RxDkCwMAx8SPUTATAAPKSGkxDA8CAXFkX8R3/v0A+sHFvvgDAAJxRhH/RAsCAIVrfwOT4vwDeI9/A5Ng/AIYeho4d9z8AU+Vmm9sPQOCip+Y5ohVAYJisWwSGGkDgcTKKrLUfQDBCjBMmfCJAwPwYO6jkJkBQReWFOycrQJAV+OWTtS1A4KqS+KPIL0AYLtYo68cwQDiW31gXDzJAIESk8nbkMkCQm0z3OmkzQECsrSKjKzRAqK8C4nUdNUAYsssxINs1QED8Z8pOjzZAwN83E9OFNkBAbiinPbU2QEg0PMkdbjZAyN6ro6pRNkCI0BPI7Ew2QIB8wIL7uTZAQG4opz21NkAIJqTtX2k2QLj9pKrQGDdAOOF081QPN0AYO+ZHw1E4QMgS5wQ0ATlAyNmGljzuOEAI6B5y+vI4QEhLlgLSvjhAmKz1s1giOEAI7UN/aFY2QMgXDBKiZDZACF8EXFd8NkAw4gBjfUM3QPCaCBnIKzdAcPCYPjtIN0Bw8Jg+O0g3QODyYY7lBThAEK4ylNqrOECQWKJuZ484QEiE9nDJ0ThAgMx6KqcdOUAQPHK364U4QGAPkkVhDzhAqKrd1Ae6N0BgD5JFYQ84QPCV4wtayDlAMDK7CimnOUAgUbQRT246QFBF5YU7JztAwGMtHAiZO0CQGh3zARk7QCilB1dAATpA",
          "dtype": "f8"
         },
         "yaxis": "y"
        }
       ],
       "layout": {
        "coloraxis": {
         "colorbar": {
          "title": {
           "text": "Speed (knots)"
          }
         },
         "colorscale": [
          [
           0,
           "#0d0887"
          ],
          [
           0.1111111111111111,
           "#46039f"
          ],
          [
           0.2222222222222222,
           "#7201a8"
          ],
          [
           0.3333333333333333,
           "#9c179e"
          ],
          [
           0.4444444444444444,
           "#bd3786"
          ],
          [
           0.5555555555555556,
           "#d8576b"
          ],
          [
           0.6666666666666666,
           "#ed7953"
          ],
          [
           0.7777777777777778,
           "#fb9f3a"
          ],
          [
           0.8888888888888888,
           "#fdca26"
          ],
          [
           1,
           "#f0f921"
          ]
         ]
        },
        "legend": {
         "tracegroupgap": 0
        },
        "template": {
         "data": {
          "bar": [
           {
            "error_x": {
             "color": "#2a3f5f"
            },
            "error_y": {
             "color": "#2a3f5f"
            },
            "marker": {
             "line": {
              "color": "#E5ECF6",
              "width": 0.5
             },
             "pattern": {
              "fillmode": "overlay",
              "size": 10,
              "solidity": 0.2
             }
            },
            "type": "bar"
           }
          ],
          "barpolar": [
           {
            "marker": {
             "line": {
              "color": "#E5ECF6",
              "width": 0.5
             },
             "pattern": {
              "fillmode": "overlay",
              "size": 10,
              "solidity": 0.2
             }
            },
            "type": "barpolar"
           }
          ],
          "carpet": [
           {
            "aaxis": {
             "endlinecolor": "#2a3f5f",
             "gridcolor": "white",
             "linecolor": "white",
             "minorgridcolor": "white",
             "startlinecolor": "#2a3f5f"
            },
            "baxis": {
             "endlinecolor": "#2a3f5f",
             "gridcolor": "white",
             "linecolor": "white",
             "minorgridcolor": "white",
             "startlinecolor": "#2a3f5f"
            },
            "type": "carpet"
           }
          ],
          "choropleth": [
           {
            "colorbar": {
             "outlinewidth": 0,
             "ticks": ""
            },
            "type": "choropleth"
           }
          ],
          "contour": [
           {
            "colorbar": {
             "outlinewidth": 0,
             "ticks": ""
            },
            "colorscale": [
             [
              0,
              "#0d0887"
             ],
             [
              0.1111111111111111,
              "#46039f"
             ],
             [
              0.2222222222222222,
              "#7201a8"
             ],
             [
              0.3333333333333333,
              "#9c179e"
             ],
             [
              0.4444444444444444,
              "#bd3786"
             ],
             [
              0.5555555555555556,
              "#d8576b"
             ],
             [
              0.6666666666666666,
              "#ed7953"
             ],
             [
              0.7777777777777778,
              "#fb9f3a"
             ],
             [
              0.8888888888888888,
              "#fdca26"
             ],
             [
              1,
              "#f0f921"
             ]
            ],
            "type": "contour"
           }
          ],
          "contourcarpet": [
           {
            "colorbar": {
             "outlinewidth": 0,
             "ticks": ""
            },
            "type": "contourcarpet"
           }
          ],
          "heatmap": [
           {
            "colorbar": {
             "outlinewidth": 0,
             "ticks": ""
            },
            "colorscale": [
             [
              0,
              "#0d0887"
             ],
             [
              0.1111111111111111,
              "#46039f"
             ],
             [
              0.2222222222222222,
              "#7201a8"
             ],
             [
              0.3333333333333333,
              "#9c179e"
             ],
             [
              0.4444444444444444,
              "#bd3786"
             ],
             [
              0.5555555555555556,
              "#d8576b"
             ],
             [
              0.6666666666666666,
              "#ed7953"
             ],
             [
              0.7777777777777778,
              "#fb9f3a"
             ],
             [
              0.8888888888888888,
              "#fdca26"
             ],
             [
              1,
              "#f0f921"
             ]
            ],
            "type": "heatmap"
           }
          ],
          "histogram": [
           {
            "marker": {
             "pattern": {
              "fillmode": "overlay",
              "size": 10,
              "solidity": 0.2
             }
            },
            "type": "histogram"
           }
          ],
          "histogram2d": [
           {
            "colorbar": {
             "outlinewidth": 0,
             "ticks": ""
            },
            "colorscale": [
             [
              0,
              "#0d0887"
             ],
             [
              0.1111111111111111,
              "#46039f"
             ],
             [
              0.2222222222222222,
              "#7201a8"
             ],
             [
              0.3333333333333333,
              "#9c179e"
             ],
             [
              0.4444444444444444,
              "#bd3786"
             ],
             [
              0.5555555555555556,
              "#d8576b"
             ],
             [
              0.6666666666666666,
              "#ed7953"
             ],
             [
              0.7777777777777778,
              "#fb9f3a"
             ],
             [
              0.8888888888888888,
              "#fdca26"
             ],
             [
              1,
              "#f0f921"
             ]
            ],
            "type": "histogram2d"
           }
          ],
          "histogram2dcontour": [
           {
            "colorbar": {
             "outlinewidth": 0,
             "ticks": ""
            },
            "colorscale": [
             [
              0,
              "#0d0887"
             ],
             [
              0.1111111111111111,
              "#46039f"
             ],
             [
              0.2222222222222222,
              "#7201a8"
             ],
             [
              0.3333333333333333,
              "#9c179e"
             ],
             [
              0.4444444444444444,
              "#bd3786"
             ],
             [
              0.5555555555555556,
              "#d8576b"
             ],
             [
              0.6666666666666666,
              "#ed7953"
             ],
             [
              0.7777777777777778,
              "#fb9f3a"
             ],
             [
              0.8888888888888888,
              "#fdca26"
             ],
             [
              1,
              "#f0f921"
             ]
            ],
            "type": "histogram2dcontour"
           }
          ],
          "mesh3d": [
           {
            "colorbar": {
             "outlinewidth": 0,
             "ticks": ""
            },
            "type": "mesh3d"
           }
          ],
          "parcoords": [
           {
            "line": {
             "colorbar": {
              "outlinewidth": 0,
              "ticks": ""
             }
            },
            "type": "parcoords"
           }
          ],
          "pie": [
           {
            "automargin": true,
            "type": "pie"
           }
          ],
          "scatter": [
           {
            "fillpattern": {
             "fillmode": "overlay",
             "size": 10,
             "solidity": 0.2
            },
            "type": "scatter"
           }
          ],
          "scatter3d": [
           {
            "line": {
             "colorbar": {
              "outlinewidth": 0,
              "ticks": ""
             }
            },
            "marker": {
             "colorbar": {
              "outlinewidth": 0,
              "ticks": ""
             }
            },
            "type": "scatter3d"
           }
          ],
          "scattercarpet": [
           {
            "marker": {
             "colorbar": {
              "outlinewidth": 0,
              "ticks": ""
             }
            },
            "type": "scattercarpet"
           }
          ],
          "scattergeo": [
           {
            "marker": {
             "colorbar": {
              "outlinewidth": 0,
              "ticks": ""
             }
            },
            "type": "scattergeo"
           }
          ],
          "scattergl": [
           {
            "marker": {
             "colorbar": {
              "outlinewidth": 0,
              "ticks": ""
             }
            },
            "type": "scattergl"
           }
          ],
          "scattermap": [
           {
            "marker": {
             "colorbar": {
              "outlinewidth": 0,
              "ticks": ""
             }
            },
            "type": "scattermap"
           }
          ],
          "scattermapbox": [
           {
            "marker": {
             "colorbar": {
              "outlinewidth": 0,
              "ticks": ""
             }
            },
            "type": "scattermapbox"
           }
          ],
          "scatterpolar": [
           {
            "marker": {
             "colorbar": {
              "outlinewidth": 0,
              "ticks": ""
             }
            },
            "type": "scatterpolar"
           }
          ],
          "scatterpolargl": [
           {
            "marker": {
             "colorbar": {
              "outlinewidth": 0,
              "ticks": ""
             }
            },
            "type": "scatterpolargl"
           }
          ],
          "scatterternary": [
           {
            "marker": {
             "colorbar": {
              "outlinewidth": 0,
              "ticks": ""
             }
            },
            "type": "scatterternary"
           }
          ],
          "surface": [
           {
            "colorbar": {
             "outlinewidth": 0,
             "ticks": ""
            },
            "colorscale": [
             [
              0,
              "#0d0887"
             ],
             [
              0.1111111111111111,
              "#46039f"
             ],
             [
              0.2222222222222222,
              "#7201a8"
             ],
             [
              0.3333333333333333,
              "#9c179e"
             ],
             [
              0.4444444444444444,
              "#bd3786"
             ],
             [
              0.5555555555555556,
              "#d8576b"
             ],
             [
              0.6666666666666666,
              "#ed7953"
             ],
             [
              0.7777777777777778,
              "#fb9f3a"
             ],
             [
              0.8888888888888888,
              "#fdca26"
             ],
             [
              1,
              "#f0f921"
             ]
            ],
            "type": "surface"
           }
          ],
          "table": [
           {
            "cells": {
             "fill": {
              "color": "#EBF0F8"
             },
             "line": {
              "color": "white"
             }
            },
            "header": {
             "fill": {
              "color": "#C8D4E3"
             },
             "line": {
              "color": "white"
             }
            },
            "type": "table"
           }
          ]
         },
         "layout": {
          "annotationdefaults": {
           "arrowcolor": "#2a3f5f",
           "arrowhead": 0,
           "arrowwidth": 1
          },
          "autotypenumbers": "strict",
          "coloraxis": {
           "colorbar": {
            "outlinewidth": 0,
            "ticks": ""
           }
          },
          "colorscale": {
           "diverging": [
            [
             0,
             "#8e0152"
            ],
            [
             0.1,
             "#c51b7d"
            ],
            [
             0.2,
             "#de77ae"
            ],
            [
             0.3,
             "#f1b6da"
            ],
            [
             0.4,
             "#fde0ef"
            ],
            [
             0.5,
             "#f7f7f7"
            ],
            [
             0.6,
             "#e6f5d0"
            ],
            [
             0.7,
             "#b8e186"
            ],
            [
             0.8,
             "#7fbc41"
            ],
            [
             0.9,
             "#4d9221"
            ],
            [
             1,
             "#276419"
            ]
           ],
           "sequential": [
            [
             0,
             "#0d0887"
            ],
            [
             0.1111111111111111,
             "#46039f"
            ],
            [
             0.2222222222222222,
             "#7201a8"
            ],
            [
             0.3333333333333333,
             "#9c179e"
            ],
            [
             0.4444444444444444,
             "#bd3786"
            ],
            [
             0.5555555555555556,
             "#d8576b"
            ],
            [
             0.6666666666666666,
             "#ed7953"
            ],
            [
             0.7777777777777778,
             "#fb9f3a"
            ],
            [
             0.8888888888888888,
             "#fdca26"
            ],
            [
             1,
             "#f0f921"
            ]
           ],
           "sequentialminus": [
            [
             0,
             "#0d0887"
            ],
            [
             0.1111111111111111,
             "#46039f"
            ],
            [
             0.2222222222222222,
             "#7201a8"
            ],
            [
             0.3333333333333333,
             "#9c179e"
            ],
            [
             0.4444444444444444,
             "#bd3786"
            ],
            [
             0.5555555555555556,
             "#d8576b"
            ],
            [
             0.6666666666666666,
             "#ed7953"
            ],
            [
             0.7777777777777778,
             "#fb9f3a"
            ],
            [
             0.8888888888888888,
             "#fdca26"
            ],
            [
             1,
             "#f0f921"
            ]
           ]
          },
          "colorway": [
           "#636efa",
           "#EF553B",
           "#00cc96",
           "#ab63fa",
           "#FFA15A",
           "#19d3f3",
           "#FF6692",
           "#B6E880",
           "#FF97FF",
           "#FECB52"
          ],
          "font": {
           "color": "#2a3f5f"
          },
          "geo": {
           "bgcolor": "white",
           "lakecolor": "white",
           "landcolor": "#E5ECF6",
           "showlakes": true,
           "showland": true,
           "subunitcolor": "white"
          },
          "hoverlabel": {
           "align": "left"
          },
          "hovermode": "closest",
          "mapbox": {
           "style": "light"
          },
          "paper_bgcolor": "white",
          "plot_bgcolor": "#E5ECF6",
          "polar": {
           "angularaxis": {
            "gridcolor": "white",
            "linecolor": "white",
            "ticks": ""
           },
           "bgcolor": "#E5ECF6",
           "radialaxis": {
            "gridcolor": "white",
            "linecolor": "white",
            "ticks": ""
           }
          },
          "scene": {
           "xaxis": {
            "backgroundcolor": "#E5ECF6",
            "gridcolor": "white",
            "gridwidth": 2,
            "linecolor": "white",
            "showbackground": true,
            "ticks": "",
            "zerolinecolor": "white"
           },
           "yaxis": {
            "backgroundcolor": "#E5ECF6",
            "gridcolor": "white",
            "gridwidth": 2,
            "linecolor": "white",
            "showbackground": true,
            "ticks": "",
            "zerolinecolor": "white"
           },
           "zaxis": {
            "backgroundcolor": "#E5ECF6",
            "gridcolor": "white",
            "gridwidth": 2,
            "linecolor": "white",
            "showbackground": true,
            "ticks": "",
            "zerolinecolor": "white"
           }
          },
          "shapedefaults": {
           "line": {
            "color": "#2a3f5f"
           }
          },
          "ternary": {
           "aaxis": {
            "gridcolor": "white",
            "linecolor": "white",
            "ticks": ""
           },
           "baxis": {
            "gridcolor": "white",
            "linecolor": "white",
            "ticks": ""
           },
           "bgcolor": "#E5ECF6",
           "caxis": {
            "gridcolor": "white",
            "linecolor": "white",
            "ticks": ""
           }
          },
          "title": {
           "x": 0.05
          },
          "xaxis": {
           "automargin": true,
           "gridcolor": "white",
           "linecolor": "white",
           "ticks": "",
           "title": {
            "standoff": 15
           },
           "zerolinecolor": "white",
           "zerolinewidth": 2
          },
          "yaxis": {
           "automargin": true,
           "gridcolor": "white",
           "linecolor": "white",
           "ticks": "",
           "title": {
            "standoff": 15
           },
           "zerolinecolor": "white",
           "zerolinewidth": 2
          }
         }
        },
        "title": {
         "text": "Trajectory relative to start (meters)"
        },
        "xaxis": {
         "anchor": "y",
         "domain": [
          0,
          1
         ],
         "title": {
          "text": "East (m)"
         }
        },
        "yaxis": {
         "anchor": "x",
         "domain": [
          0,
          1
         ],
         "scaleanchor": "x",
         "scaleratio": 1,
         "title": {
          "text": "North (m)"
         }
        }
       }
      }
     },
     "metadata": {},
     "output_type": "display_data"
    }
   ],
   "source": [
    "# Convert collected pose_data into a DataFrame and plot relative trajectory\n",
    "import plotly.express as px\n",
    "import math\n",
    "\n",
    "\n",
    "# Reference (start) point\n",
    "lat0 = pose_df.loc[0, 'lat']\n",
    "lon0 = pose_df.loc[0, 'lon']\n",
    "\n",
    "# Approximate conversion: meters per degree latitude ~= 111132, longitude scaled by cos(lat)\n",
    "meters_per_deg_lat = 111132.0\n",
    "meters_per_deg_lon = 111320.0 * math.cos(math.radians(lat0))\n",
    "\n",
    "pose_df['x_m'] = (pose_df['lon'] - lon0) * meters_per_deg_lon\n",
    "pose_df['y_m'] = (pose_df['lat'] - lat0) * meters_per_deg_lat\n",
    "\n",
    "# Create a simple scatter plot of trajectory (x east, y north)\n",
    "fig = px.scatter(pose_df, x='x_m', y='y_m', color='vel',\n",
    "                    title='Trajectory relative to start (meters)',\n",
    "                    labels={'x_m': 'East (m)', 'y_m': 'North (m)', 'vel': 'Speed (knots)'} ,\n",
    "                    hover_data=['lat', 'lon', 'vel'])\n",
    "fig.update_traces(mode='lines+markers')\n",
    "fig.update_layout(yaxis=dict(scaleanchor='x', scaleratio=1))\n",
    "fig.show()"
   ]
  },
  {
   "cell_type": "code",
   "execution_count": 4,
   "id": "d6b60813",
   "metadata": {},
   "outputs": [
    {
     "data": {
      "application/vnd.plotly.v1+json": {
       "config": {
        "plotlyServerURL": "https://plot.ly"
       },
       "data": [
        {
         "hovertemplate": "timestamp=%{x}<br>vel_mean=%{y}<extra></extra>",
         "legendgroup": "",
         "marker": {
          "color": "#636efa",
          "symbol": "circle"
         },
         "mode": "lines+markers",
         "name": "",
         "orientation": "v",
         "showlegend": false,
         "type": "scatter",
         "x": [
          "18:23:29+00:00",
          "18:23:30+00:00",
          "18:23:31+00:00",
          "18:23:32+00:00",
          "18:23:33+00:00",
          "18:23:34+00:00",
          "18:23:35+00:00",
          "18:23:36+00:00",
          "18:23:37+00:00",
          "18:23:38+00:00",
          "18:23:39+00:00",
          "18:23:40+00:00",
          "18:23:41+00:00",
          "18:23:42+00:00",
          "18:23:43+00:00",
          "18:23:44+00:00",
          "18:23:45+00:00",
          "18:23:46+00:00",
          "18:23:47+00:00",
          "18:23:48+00:00",
          "18:23:49+00:00",
          "18:23:50+00:00",
          "18:23:51+00:00",
          "18:23:52+00:00",
          "18:23:53+00:00",
          "18:23:54+00:00",
          "18:23:55+00:00",
          "18:23:56+00:00",
          "18:23:57+00:00",
          "18:23:58+00:00",
          "18:23:59+00:00",
          "18:24:00+00:00",
          "18:24:01+00:00",
          "18:24:02+00:00",
          "18:24:03+00:00",
          "18:24:04+00:00",
          "18:24:05+00:00",
          "18:24:06+00:00",
          "18:24:07+00:00",
          "18:24:08+00:00",
          "18:24:09+00:00",
          "18:24:10+00:00",
          "18:24:11+00:00",
          "18:24:12+00:00",
          "18:24:13+00:00",
          "18:24:14+00:00",
          "18:24:15+00:00",
          "18:24:16+00:00",
          "18:24:17+00:00",
          "18:24:18+00:00",
          "18:24:19+00:00",
          "18:24:20+00:00",
          "18:24:21+00:00",
          "18:24:22+00:00",
          "18:24:23+00:00",
          "18:24:24+00:00",
          "18:24:25+00:00",
          "18:24:26+00:00",
          "18:24:27+00:00",
          "18:24:28+00:00",
          "18:24:29+00:00",
          "18:24:30+00:00",
          "18:24:31+00:00",
          "18:24:32+00:00",
          "18:24:33+00:00",
          "18:24:34+00:00",
          "18:24:35+00:00",
          "18:24:36+00:00",
          "18:24:37+00:00",
          "18:24:38+00:00",
          "18:24:39+00:00",
          "18:24:40+00:00",
          "18:24:41+00:00",
          "18:24:42+00:00",
          "18:24:43+00:00",
          "18:24:44+00:00",
          "18:24:45+00:00",
          "18:24:46+00:00",
          "18:24:47+00:00",
          "18:24:48+00:00",
          "18:24:49+00:00",
          "18:24:50+00:00",
          "18:24:51+00:00",
          "18:24:52+00:00",
          "18:24:53+00:00",
          "18:24:54+00:00",
          "18:24:55+00:00",
          "18:24:56+00:00",
          "18:24:57+00:00",
          "18:24:58+00:00",
          "18:24:59+00:00",
          "18:25:00+00:00",
          "18:25:01+00:00",
          "18:25:02+00:00",
          "18:25:03+00:00",
          "18:25:04+00:00",
          "18:25:05+00:00",
          "18:25:06+00:00",
          "18:25:07+00:00",
          "18:25:08+00:00",
          "18:25:09+00:00",
          "18:25:10+00:00",
          "18:25:11+00:00",
          "18:25:12+00:00",
          "18:25:13+00:00",
          "18:25:14+00:00",
          "18:25:15+00:00",
          "18:25:16+00:00",
          "18:25:17+00:00",
          "18:25:18+00:00",
          "18:25:19+00:00",
          "18:25:20+00:00",
          "18:25:21+00:00",
          "18:25:22+00:00",
          "18:25:23+00:00",
          "18:25:24+00:00",
          "18:25:25+00:00",
          "18:25:26+00:00",
          "18:25:27+00:00",
          "18:25:28+00:00",
          "18:25:29+00:00",
          "18:25:30+00:00",
          "18:25:31+00:00",
          "18:25:32+00:00",
          "18:25:33+00:00",
          "18:25:34+00:00",
          "18:25:35+00:00",
          "18:25:36+00:00",
          "18:25:37+00:00",
          "18:25:38+00:00",
          "18:25:39+00:00",
          "18:25:40+00:00",
          "18:25:41+00:00",
          "18:25:42+00:00",
          "18:25:43+00:00",
          "18:25:44+00:00",
          "18:25:45+00:00",
          "18:25:46+00:00",
          "18:25:47+00:00",
          "18:25:48+00:00",
          "18:25:49+00:00",
          "18:25:50+00:00",
          "18:25:51+00:00",
          "18:25:52+00:00",
          "18:25:53+00:00",
          "18:25:54+00:00",
          "18:25:55+00:00",
          "18:25:56+00:00",
          "18:25:57+00:00",
          "18:25:58+00:00",
          "18:25:59+00:00",
          "18:26:00+00:00",
          "18:26:01+00:00",
          "18:26:02+00:00",
          "18:26:03+00:00",
          "18:26:04+00:00",
          "18:26:05+00:00",
          "18:26:06+00:00",
          "18:26:07+00:00",
          "18:26:08+00:00",
          "18:26:09+00:00",
          "18:26:10+00:00",
          "18:26:11+00:00",
          "18:26:12+00:00",
          "18:26:13+00:00",
          "18:26:14+00:00",
          "18:26:15+00:00",
          "18:26:16+00:00",
          "18:26:17+00:00",
          "18:26:18+00:00",
          "18:26:19+00:00",
          "18:26:20+00:00",
          "18:26:21+00:00",
          "18:26:22+00:00",
          "18:26:23+00:00",
          "18:26:24+00:00",
          "18:26:25+00:00"
         ],
         "xaxis": "x",
         "y": {
          "bdata": "eekmMQisjD+kcD0K16OwP4ts5/up8bI/sp3vp8ZLyz9qAG+BBMXjP5oIG55eKfM/FmpN845T/D+uR+F6FK4CQPMf0m9fBwZAPgrXo3A9B0Dn+6nx0k0HQKtgVFInoAdALNSa5h2nB0ASpb3BFyYIQH0/NV66SQhArfpcbcX+B0Cd76fGSzcHQARWDi2ynQhA8h/Sb18HCUAo7Q2+MJkIQDYawFsgQQlAlWWIY13cDUBzaJHtfD8NQIPAyqFFtgxAJuSDns2qDUCFns2qz9UMQFjKMsSxLghAzojS3uALCECti9toAG8HQAn5oGez6gZAFoxK6gQ0B0DG3LWEfNAHQGaIY13cRgZAJXUCmggbBkCEL0ymCkYGQKjGSzeJQQZAVp+rrdhfBUDoSC7/If0FQL0FEhQ/xgZAmggbnl4pBkDJ5T+k374CQIC3QILixwBAgEi/fR04+z8wKqkT0ETyP/W52or9Zec/hjjWxW005D+tad5xio7cPzxO0ZFc/tM/RPrt68A50z9Wn6ut2F/GP4QvTKYKRsU/HjhnRGlvwD8T8kHPZtXHPwK8BRIUP8Y/U3Qkl/+Qzj/wOEVHcvnPP4C3QILix9A/ppvEILBy2D8QejarPlfrP0ATYcPTK/U/fa62Yn/Z/T8qGJXUCWgCQMPTK2UZ4gRAO3DOiNLeBECKH2PuWkIEQKCJsOHplQNAI7n8h/TbA0C2Yn/ZPXkCQEm/fR04ZwJAfGEyVTAqAkBcIEHxY8wBQC6QoPgx5gFAPgrXo3A9A0Ao7Q2+MJkDQBsv3SQGgQNAZtXnaiv2A0B6FK5H4XoEQKqCUUmdgARAppvEILByBEB4nKIjufwEQLfRAN4CCQVAayv2l92TBEDLEMe6uI0EQNZW7C+7JwVAOiNKe4MvBEDfT42XbhIEQESLbOf7qQNAhlrTvOMUA0BSliGOdXECQCZTBaOSOgNAfT81XrpJA0DG/rJ78rADQIqw4emVsgNAnaIjufyHA0BbQj7o2awDQP1l9+RhoQNAQILix5i7AkBaZDvfT40CQEETYcPTKwFADgu1pnnH+z/9qfHSTWL0P4XAyqFFtus/48eYu5aQ3z8CRPrt68DJP30Cmggbnr4/ip7Nqs/Vtj9xvHSTGAS2PzJ1ApoIG64/CDtwzojSrj9YwaikTkDDPwO8BRIUP9Y/Jrn8h/Tb1z+oCkYldQLaP/cGX5hMFeA/tXvysFBr2j8KX5hMFYzSPxYdyeU/pNc/++3rwDkj2j8LaCJseHrlPzarPldbsfM/lkOLbOf7+z8IrBxaZDsCQM3uycNCrQVAMN0kBoGVBkCWQ4ts5/sFQGyad5yiIwVAXm3F/rJ7BkAj2/l+arwIQCo6kst/SAlAEVg5tMh2CECiRbbz/dQIQLNZ9bnaigZAv30dOGdEAkD25GGh1jT/P9obfGEyVf4/4E+Nl24S/T+94xQdyeX7P4PAyqFFtv0/2IFzRpT2AUBAE2HD0ysDQN4CCYofYwBAm1Wfq63Y/T+WsgxxrIsAQCO5/If02/0/7VG4HoXr9z/pSC7/If32PzpFR3L5D/c/uY0G8BZI8D+L/WX35GHzP3icoiO5/PM/Rrbz/dR49T82GsBbIEH1P/YGX5hMFfQ//Yf029eB6z9zRpT2Bl/yPwn5oGez6vE/XW3F/rJ78D+jkjoBTYTzP/qgZ7Pqc/M/ayv2l92T7z8OnDOitDfwP1TjpZvEIPQ/lpAPejar9D/xhclUwaj0P425awn5oPU/Nl66SQwC9z9rmnecoiPzP6A8LNSa5u0/k6mCUUmd6D/tL7snDwvhPwWjkjoBTdw/AJF++zpw1j9C8WPMXUvgPzy9UpYhjuU/RUdy+Q/p5z8ukKD4MebmPyYxCKwcWug/",
          "dtype": "f8"
         },
         "yaxis": "y"
        }
       ],
       "layout": {
        "legend": {
         "tracegroupgap": 0
        },
        "margin": {
         "t": 60
        },
        "template": {
         "data": {
          "bar": [
           {
            "error_x": {
             "color": "#2a3f5f"
            },
            "error_y": {
             "color": "#2a3f5f"
            },
            "marker": {
             "line": {
              "color": "#E5ECF6",
              "width": 0.5
             },
             "pattern": {
              "fillmode": "overlay",
              "size": 10,
              "solidity": 0.2
             }
            },
            "type": "bar"
           }
          ],
          "barpolar": [
           {
            "marker": {
             "line": {
              "color": "#E5ECF6",
              "width": 0.5
             },
             "pattern": {
              "fillmode": "overlay",
              "size": 10,
              "solidity": 0.2
             }
            },
            "type": "barpolar"
           }
          ],
          "carpet": [
           {
            "aaxis": {
             "endlinecolor": "#2a3f5f",
             "gridcolor": "white",
             "linecolor": "white",
             "minorgridcolor": "white",
             "startlinecolor": "#2a3f5f"
            },
            "baxis": {
             "endlinecolor": "#2a3f5f",
             "gridcolor": "white",
             "linecolor": "white",
             "minorgridcolor": "white",
             "startlinecolor": "#2a3f5f"
            },
            "type": "carpet"
           }
          ],
          "choropleth": [
           {
            "colorbar": {
             "outlinewidth": 0,
             "ticks": ""
            },
            "type": "choropleth"
           }
          ],
          "contour": [
           {
            "colorbar": {
             "outlinewidth": 0,
             "ticks": ""
            },
            "colorscale": [
             [
              0,
              "#0d0887"
             ],
             [
              0.1111111111111111,
              "#46039f"
             ],
             [
              0.2222222222222222,
              "#7201a8"
             ],
             [
              0.3333333333333333,
              "#9c179e"
             ],
             [
              0.4444444444444444,
              "#bd3786"
             ],
             [
              0.5555555555555556,
              "#d8576b"
             ],
             [
              0.6666666666666666,
              "#ed7953"
             ],
             [
              0.7777777777777778,
              "#fb9f3a"
             ],
             [
              0.8888888888888888,
              "#fdca26"
             ],
             [
              1,
              "#f0f921"
             ]
            ],
            "type": "contour"
           }
          ],
          "contourcarpet": [
           {
            "colorbar": {
             "outlinewidth": 0,
             "ticks": ""
            },
            "type": "contourcarpet"
           }
          ],
          "heatmap": [
           {
            "colorbar": {
             "outlinewidth": 0,
             "ticks": ""
            },
            "colorscale": [
             [
              0,
              "#0d0887"
             ],
             [
              0.1111111111111111,
              "#46039f"
             ],
             [
              0.2222222222222222,
              "#7201a8"
             ],
             [
              0.3333333333333333,
              "#9c179e"
             ],
             [
              0.4444444444444444,
              "#bd3786"
             ],
             [
              0.5555555555555556,
              "#d8576b"
             ],
             [
              0.6666666666666666,
              "#ed7953"
             ],
             [
              0.7777777777777778,
              "#fb9f3a"
             ],
             [
              0.8888888888888888,
              "#fdca26"
             ],
             [
              1,
              "#f0f921"
             ]
            ],
            "type": "heatmap"
           }
          ],
          "histogram": [
           {
            "marker": {
             "pattern": {
              "fillmode": "overlay",
              "size": 10,
              "solidity": 0.2
             }
            },
            "type": "histogram"
           }
          ],
          "histogram2d": [
           {
            "colorbar": {
             "outlinewidth": 0,
             "ticks": ""
            },
            "colorscale": [
             [
              0,
              "#0d0887"
             ],
             [
              0.1111111111111111,
              "#46039f"
             ],
             [
              0.2222222222222222,
              "#7201a8"
             ],
             [
              0.3333333333333333,
              "#9c179e"
             ],
             [
              0.4444444444444444,
              "#bd3786"
             ],
             [
              0.5555555555555556,
              "#d8576b"
             ],
             [
              0.6666666666666666,
              "#ed7953"
             ],
             [
              0.7777777777777778,
              "#fb9f3a"
             ],
             [
              0.8888888888888888,
              "#fdca26"
             ],
             [
              1,
              "#f0f921"
             ]
            ],
            "type": "histogram2d"
           }
          ],
          "histogram2dcontour": [
           {
            "colorbar": {
             "outlinewidth": 0,
             "ticks": ""
            },
            "colorscale": [
             [
              0,
              "#0d0887"
             ],
             [
              0.1111111111111111,
              "#46039f"
             ],
             [
              0.2222222222222222,
              "#7201a8"
             ],
             [
              0.3333333333333333,
              "#9c179e"
             ],
             [
              0.4444444444444444,
              "#bd3786"
             ],
             [
              0.5555555555555556,
              "#d8576b"
             ],
             [
              0.6666666666666666,
              "#ed7953"
             ],
             [
              0.7777777777777778,
              "#fb9f3a"
             ],
             [
              0.8888888888888888,
              "#fdca26"
             ],
             [
              1,
              "#f0f921"
             ]
            ],
            "type": "histogram2dcontour"
           }
          ],
          "mesh3d": [
           {
            "colorbar": {
             "outlinewidth": 0,
             "ticks": ""
            },
            "type": "mesh3d"
           }
          ],
          "parcoords": [
           {
            "line": {
             "colorbar": {
              "outlinewidth": 0,
              "ticks": ""
             }
            },
            "type": "parcoords"
           }
          ],
          "pie": [
           {
            "automargin": true,
            "type": "pie"
           }
          ],
          "scatter": [
           {
            "fillpattern": {
             "fillmode": "overlay",
             "size": 10,
             "solidity": 0.2
            },
            "type": "scatter"
           }
          ],
          "scatter3d": [
           {
            "line": {
             "colorbar": {
              "outlinewidth": 0,
              "ticks": ""
             }
            },
            "marker": {
             "colorbar": {
              "outlinewidth": 0,
              "ticks": ""
             }
            },
            "type": "scatter3d"
           }
          ],
          "scattercarpet": [
           {
            "marker": {
             "colorbar": {
              "outlinewidth": 0,
              "ticks": ""
             }
            },
            "type": "scattercarpet"
           }
          ],
          "scattergeo": [
           {
            "marker": {
             "colorbar": {
              "outlinewidth": 0,
              "ticks": ""
             }
            },
            "type": "scattergeo"
           }
          ],
          "scattergl": [
           {
            "marker": {
             "colorbar": {
              "outlinewidth": 0,
              "ticks": ""
             }
            },
            "type": "scattergl"
           }
          ],
          "scattermap": [
           {
            "marker": {
             "colorbar": {
              "outlinewidth": 0,
              "ticks": ""
             }
            },
            "type": "scattermap"
           }
          ],
          "scattermapbox": [
           {
            "marker": {
             "colorbar": {
              "outlinewidth": 0,
              "ticks": ""
             }
            },
            "type": "scattermapbox"
           }
          ],
          "scatterpolar": [
           {
            "marker": {
             "colorbar": {
              "outlinewidth": 0,
              "ticks": ""
             }
            },
            "type": "scatterpolar"
           }
          ],
          "scatterpolargl": [
           {
            "marker": {
             "colorbar": {
              "outlinewidth": 0,
              "ticks": ""
             }
            },
            "type": "scatterpolargl"
           }
          ],
          "scatterternary": [
           {
            "marker": {
             "colorbar": {
              "outlinewidth": 0,
              "ticks": ""
             }
            },
            "type": "scatterternary"
           }
          ],
          "surface": [
           {
            "colorbar": {
             "outlinewidth": 0,
             "ticks": ""
            },
            "colorscale": [
             [
              0,
              "#0d0887"
             ],
             [
              0.1111111111111111,
              "#46039f"
             ],
             [
              0.2222222222222222,
              "#7201a8"
             ],
             [
              0.3333333333333333,
              "#9c179e"
             ],
             [
              0.4444444444444444,
              "#bd3786"
             ],
             [
              0.5555555555555556,
              "#d8576b"
             ],
             [
              0.6666666666666666,
              "#ed7953"
             ],
             [
              0.7777777777777778,
              "#fb9f3a"
             ],
             [
              0.8888888888888888,
              "#fdca26"
             ],
             [
              1,
              "#f0f921"
             ]
            ],
            "type": "surface"
           }
          ],
          "table": [
           {
            "cells": {
             "fill": {
              "color": "#EBF0F8"
             },
             "line": {
              "color": "white"
             }
            },
            "header": {
             "fill": {
              "color": "#C8D4E3"
             },
             "line": {
              "color": "white"
             }
            },
            "type": "table"
           }
          ]
         },
         "layout": {
          "annotationdefaults": {
           "arrowcolor": "#2a3f5f",
           "arrowhead": 0,
           "arrowwidth": 1
          },
          "autotypenumbers": "strict",
          "coloraxis": {
           "colorbar": {
            "outlinewidth": 0,
            "ticks": ""
           }
          },
          "colorscale": {
           "diverging": [
            [
             0,
             "#8e0152"
            ],
            [
             0.1,
             "#c51b7d"
            ],
            [
             0.2,
             "#de77ae"
            ],
            [
             0.3,
             "#f1b6da"
            ],
            [
             0.4,
             "#fde0ef"
            ],
            [
             0.5,
             "#f7f7f7"
            ],
            [
             0.6,
             "#e6f5d0"
            ],
            [
             0.7,
             "#b8e186"
            ],
            [
             0.8,
             "#7fbc41"
            ],
            [
             0.9,
             "#4d9221"
            ],
            [
             1,
             "#276419"
            ]
           ],
           "sequential": [
            [
             0,
             "#0d0887"
            ],
            [
             0.1111111111111111,
             "#46039f"
            ],
            [
             0.2222222222222222,
             "#7201a8"
            ],
            [
             0.3333333333333333,
             "#9c179e"
            ],
            [
             0.4444444444444444,
             "#bd3786"
            ],
            [
             0.5555555555555556,
             "#d8576b"
            ],
            [
             0.6666666666666666,
             "#ed7953"
            ],
            [
             0.7777777777777778,
             "#fb9f3a"
            ],
            [
             0.8888888888888888,
             "#fdca26"
            ],
            [
             1,
             "#f0f921"
            ]
           ],
           "sequentialminus": [
            [
             0,
             "#0d0887"
            ],
            [
             0.1111111111111111,
             "#46039f"
            ],
            [
             0.2222222222222222,
             "#7201a8"
            ],
            [
             0.3333333333333333,
             "#9c179e"
            ],
            [
             0.4444444444444444,
             "#bd3786"
            ],
            [
             0.5555555555555556,
             "#d8576b"
            ],
            [
             0.6666666666666666,
             "#ed7953"
            ],
            [
             0.7777777777777778,
             "#fb9f3a"
            ],
            [
             0.8888888888888888,
             "#fdca26"
            ],
            [
             1,
             "#f0f921"
            ]
           ]
          },
          "colorway": [
           "#636efa",
           "#EF553B",
           "#00cc96",
           "#ab63fa",
           "#FFA15A",
           "#19d3f3",
           "#FF6692",
           "#B6E880",
           "#FF97FF",
           "#FECB52"
          ],
          "font": {
           "color": "#2a3f5f"
          },
          "geo": {
           "bgcolor": "white",
           "lakecolor": "white",
           "landcolor": "#E5ECF6",
           "showlakes": true,
           "showland": true,
           "subunitcolor": "white"
          },
          "hoverlabel": {
           "align": "left"
          },
          "hovermode": "closest",
          "mapbox": {
           "style": "light"
          },
          "paper_bgcolor": "white",
          "plot_bgcolor": "#E5ECF6",
          "polar": {
           "angularaxis": {
            "gridcolor": "white",
            "linecolor": "white",
            "ticks": ""
           },
           "bgcolor": "#E5ECF6",
           "radialaxis": {
            "gridcolor": "white",
            "linecolor": "white",
            "ticks": ""
           }
          },
          "scene": {
           "xaxis": {
            "backgroundcolor": "#E5ECF6",
            "gridcolor": "white",
            "gridwidth": 2,
            "linecolor": "white",
            "showbackground": true,
            "ticks": "",
            "zerolinecolor": "white"
           },
           "yaxis": {
            "backgroundcolor": "#E5ECF6",
            "gridcolor": "white",
            "gridwidth": 2,
            "linecolor": "white",
            "showbackground": true,
            "ticks": "",
            "zerolinecolor": "white"
           },
           "zaxis": {
            "backgroundcolor": "#E5ECF6",
            "gridcolor": "white",
            "gridwidth": 2,
            "linecolor": "white",
            "showbackground": true,
            "ticks": "",
            "zerolinecolor": "white"
           }
          },
          "shapedefaults": {
           "line": {
            "color": "#2a3f5f"
           }
          },
          "ternary": {
           "aaxis": {
            "gridcolor": "white",
            "linecolor": "white",
            "ticks": ""
           },
           "baxis": {
            "gridcolor": "white",
            "linecolor": "white",
            "ticks": ""
           },
           "bgcolor": "#E5ECF6",
           "caxis": {
            "gridcolor": "white",
            "linecolor": "white",
            "ticks": ""
           }
          },
          "title": {
           "x": 0.05
          },
          "xaxis": {
           "automargin": true,
           "gridcolor": "white",
           "linecolor": "white",
           "ticks": "",
           "title": {
            "standoff": 15
           },
           "zerolinecolor": "white",
           "zerolinewidth": 2
          },
          "yaxis": {
           "automargin": true,
           "gridcolor": "white",
           "linecolor": "white",
           "ticks": "",
           "title": {
            "standoff": 15
           },
           "zerolinecolor": "white",
           "zerolinewidth": 2
          }
         }
        },
        "xaxis": {
         "anchor": "y",
         "domain": [
          0,
          1
         ],
         "title": {
          "text": "timestamp"
         }
        },
        "yaxis": {
         "anchor": "x",
         "domain": [
          0,
          1
         ],
         "title": {
          "text": "vel_mean"
         }
        }
       }
      }
     },
     "metadata": {},
     "output_type": "display_data"
    }
   ],
   "source": [
    "# Convert collected pose_data into a DataFrame and plot relative trajectory\n",
    "import plotly.express as px\n",
    "\n",
    "\n",
    "pose_df['vel_mean'] = pose_df['vel'].rolling(window=5, min_periods=1, center=False).mean()\n",
    "\n",
    "\n",
    "\n",
    "\n",
    "# Create a simple scatter plot of trajectory (x east, y north)\n",
    "fig = px.scatter(pose_df, x='timestamp', y='vel_mean')\n",
    "fig.update_traces(mode='lines+markers')\n",
    "fig.show()"
   ]
  }
 ],
 "metadata": {
  "kernelspec": {
   "display_name": ".env",
   "language": "python",
   "name": "python3"
  },
  "language_info": {
   "codemirror_mode": {
    "name": "ipython",
    "version": 3
   },
   "file_extension": ".py",
   "mimetype": "text/x-python",
   "name": "python",
   "nbconvert_exporter": "python",
   "pygments_lexer": "ipython3",
   "version": "3.12.3"
  }
 },
 "nbformat": 4,
 "nbformat_minor": 5
}
