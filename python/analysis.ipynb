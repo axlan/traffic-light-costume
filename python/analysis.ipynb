{
 "cells": [
  {
   "cell_type": "code",
   "execution_count": 19,
   "id": "10a7e1bf",
   "metadata": {},
   "outputs": [
    {
     "name": "stdout",
     "output_type": "stream",
     "text": [
      "         lat         lon    vel\n",
      "0  37.846897 -122.278694  0.368\n",
      "1  37.846897 -122.278694  0.162\n",
      "2  37.846905 -122.278679  1.915\n",
      "3  37.846909 -122.278679  0.927\n",
      "4  37.846909 -122.278694  0.370\n"
     ]
    }
   ],
   "source": [
    "import numpy as np\n",
    "import pandas as pd\n",
    "\n",
    "DATA_FILE = \"../data/LOG002.BIN\"\n",
    "\n",
    "# dtype matches the packed C struct of three 32-bit floats (little-endian)\n",
    "RMC_DTYPE = np.dtype([('lat', '<f4'), ('lon', '<f4'), ('vel', '<f4')])\n",
    "\n",
    "data = np.fromfile(DATA_FILE, dtype=RMC_DTYPE)\n",
    "\n",
    "\n",
    "pose_df = pd.DataFrame(data)\n",
    "\n",
    "print(pose_df.head())\n",
    "\n"
   ]
  },
  {
   "cell_type": "code",
   "execution_count": 20,
   "id": "4fb7134b",
   "metadata": {},
   "outputs": [
    {
     "data": {
      "application/vnd.plotly.v1+json": {
       "config": {
        "plotlyServerURL": "https://plot.ly"
       },
       "data": [
        {
         "customdata": {
          "bdata": "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",
          "dtype": "f4",
          "shape": "210, 3"
         },
         "hovertemplate": "East (m)=%{x}<br>North (m)=%{y}<br>lat=%{customdata[0]}<br>lon=%{customdata[1]}<br>Speed (knots)=%{marker.color}<extra></extra>",
         "legendgroup": "",
         "marker": {
          "color": {
           "bdata": "f2q8PlTjJT64HvU/309tP6NwvT4fhas+vHSTPuomMT6amZk9exQuPrx0Ez28dBM8nu8nPQrXIz0Tg8A+i2zHP9v5FkA3iSFAN4kxQGMQOEBSuD5AjZc+QBgEPkBcjzpArkcxQD81PkBnZj5AEFgBQN0k9j+XbvI/hxYJQBgE9j/6fvo/4nr0P7pJ3D/91Pg/eOnWP/P91D9XDu0/jZfeP+tRCEAj2wFAhevhP4cW6T9GtgNAcT0KQJLtBEAdWgxAU+P1P8L16D9XDu0/X7rpP9Ai+z89Cvc/LbL9Px1a5D/7qfE/30/tP4lBAECoxss/61GYP7Kdnz+WQ7s/PgoXP2iRjT8nMWg/wMqxP7Kdzz9jEKg/QmDFP6wcyj+oxts/c2jBP4ts1z+amek/Vw7tP99PJUCuRylAaJE1QAaBxT+fGp8/L90MQHNoGUCjcFVA0SIbQGDlwD+q8RJAkxgcQNejIEAj28k/r0dhP8uhtT9U4xVAokWKQP7UEEAv3TRAf2oUQJHtrD+/n/o/eekuQP7UOEBwPTJAzcwsQCGwMkBjEChAUI1PQAwCE0AK19M/mpm5P2Dl0D9H4SpAMgjsP8DKAUA1XlpAPzVOQOF6PEDl0CJAYOVAQPhTC0BU4yU+KVyvP7pJ3D8hsAJAObQwQI/CPUByaHFAvHQzQH0/XUA/NS5ABFYOQClcH0AlBhlAObQYQLgeFUD/1Ng/UrjuP7Kd3z+Nl/4/ne/3P+f76T+gGv8/TmIAQAwCA0AhsApAI9sBQCPb+T9SuP4/d74HQFCNB0ApXA9AH4UbQKjGG0DqJhFAAisXQGu8HEAX2SZA46UrQGznK0AEViZAt/MVQLPI9j9eusk/SzfJP166yT8nMQhA2/m+P4cW2T8hsMI/c2ixP4CV8z/EIBBAUrgeQOXQKkDy0i1A6iYBQP7UEEDrUQBAw/UIQLtJBECPwi1AexRGQJqZOUC8dENAnu9HQJqZSUArhz5AO98nQBsvNUCJQUBAMzM7QFK4NkD2KERA2M5PQNejEEArh8Y/nxoPQOJ6VEBrvARAO99XQFCNh0CbxCA/9iiMP+tRiD9jEKg/0CLbP4PAyj/2KAxAQ4tsPxsvPT83iYE/",
           "dtype": "f4"
          },
          "coloraxis": "coloraxis",
          "symbol": "circle"
         },
         "mode": "lines+markers",
         "name": "",
         "orientation": "v",
         "showlegend": false,
         "type": "scatter",
         "x": {
          "bdata": "AAAAAAAAAAAXsKs/F7CrPwAAAAAAAAAAAAAAAAAAAAAAAAAAAAAAAAAAAAAAAAAAAAAAAAAAAAAAAAAAAAAAAAAAAAAXsKs/EcSAQBewq0AXsKtAIBLsQBb1IEEYazZBG+FLQRvhS0EeV2FBE3+LQRN/i0EUOpZBFvWgQRb1oEEYa7ZBGGu2QRomwUEaJsFBG+HLQRvhy0GftOZBn7TmQaBv8UGgb/FBoir8QaIq/EFS0AhCUtAIQlLQCEJUixNCVIsTQhb1IEIW9SBCFvUgQhb1IEIXsCtCF7ArQhhrNkIYazZCGGs2QhhrNkIaJkFCGiZBQhomQULcj05C3I9OQtyPTkLcj05C3I9OQt1KWULdSllC3UpZQl6oXkJeqF5CXqheQt8FZELfBWRCoG9xQqBvcUIhzXZCIc12QqIqfEKiKnxC0nKDQtJyg0KSIYZCUtCIQlLQiEIzhY9CM4WPQvQzkkK04pRCtOKUQjVAmkL17pxCtZ2fQtajo0JXAalCF7CrQtderkLXXq5C116uQtderkLXXq5CWLyzQtderkLXXq5C116uQtderkIXsKtCF7CrQhewq0JXAalCVwGpQtajo0LWo6NCtZ2fQvXunEI1QJpCNUCaQrTilEK04pRCtOKUQvQzkkL0M5JCM4WPQlLQiEKSIYZCkiGGQpIhhkLScoNCoip8QiHNdkKgb3FC3wVkQl6oXkLdSllC3UpZQtyPTkLcj05C3I9OQhomQUIaJkFCGGs2QhhrNkIYazZCF7ArQhewK0IW9SBCFvUgQhb1IEJUixNCUtAIQlLQCEJS0AhCoir8QaIq/EGgb/FBn7TmQRvhy0Eb4ctBGibBQRhrtkEYa7ZBGGu2QRb1oEEW9aBBFDqWQRQ6lkETf4tBE3+LQR5XYUEeV2FBG+FLQRhrNkEYazZBFvUgQSAS7EAgEuxAF7CrQBewq0AXsKtAF7CrQBHEgEARxIBAF7CrPxewqz8XsKs/F7CrPwAAAAAAAAAAAAAAABewq78XsKu/F7Crvxewq78XsKu/F7CrvxHEgMARxIDAEcSAwBHEgMARxIDAEcSAwBHEgMARxIDAGibBwBomwcAgEuzAIBLswCAS7MAgEuzA",
          "dtype": "f4"
         },
         "xaxis": "x",
         "y": {
          "bdata": "AAAAAAAAAAAADlk/gMqiP4DKoj+AyqI/gMqiP4DKoj+AyqI/gMqiP4DKoj/AqAdAwKgHQMCoB0DAqAdAwKgHQIDKIkCAyiJAAA5ZQAAOWUDAqIdAoDmVQKA5lUCgOZVAoDmVQKA5lUCgOZVAoDmVQKA5lUCgOZVAYFuwQGBbsEBA7L1AQOy9QEDsvUBA7L1AQOy9QOCe5kBQ4ABBUOAAQcCoB0HAqAdBwKgHQcCoB0HAqAdBoDkVQaA5FUGgORVBoDkVQRACHEEQAhxBEAIcQRACHEEQAhxB8JIpQfCSKUHQIzdB8JIpQfCSKUEQAhxBEAIcQaA5FUHQIzdB0CM3QQAOWUEADllB0CM3QdAjN0EQAhxBoDkVQcCoB0FQ4ABBUOAAQVDgAEFQ4ABBUOAAQeCe5kBQ4ABB4J7mQFDgAEFQ4ABBYFuwQKA5lUDgnuZA4J7mQGBbsEDgnuZAYFuwQOCe5kBQ4ABBwKgHQaA5FUHwkilBwC90QTBxjkEwcY5B2J2YQdidmEGgOZVBMHGOQYhEhEHgnmZBAA5ZQUDsPUHwkilBoDkVQVDgAEFQ4ABBUOAAQcCoB0EQAhxB0CM3QUDsPUHgnmZB4J5mQUDsPUHQIzdBEAIcQdAjN0HwkilBEAIcQaA5FUFQ4ABBQOy9QKA5lUDAqAdAgMqiP4DKor8ADtm/AA7ZvwAO2b8ADtm/AA7Zv4DKor8ADtm/AA7Zv4DKIsBA7D3AgMoiwIDKIsBA7D3AQOw9wEDsPcDAL3TAwC90wMAvdMCgOZXAoDmVwKA5lcCgOZXAoDmVwIDKosCAyqLAgMqiwIDKosCAyqLAgMqiwIDKosBA7L3AQOy9wCB9y8AgfcvAIH3LwCB9y8DAL/TAwC/0wMAv9MDAL/TAwC/0wMCoB8HAqAfBwKgHwcCoB8HAqAfBMHEOwTBxDsHAqAfBwKgHwSB9y8CAyqLAQOw9wAAO2b8AAAAAgMqiP4DKIkCgOZVAYFuwQOCe5kDAqAdB8JIpQdAjN0EADllB4J5mQTD4ekGIRIRBMHGOQaA5lUGgOZVBuC6mQdAjt0G4LqZBuC6mQSj3rEGYv7NB0CO3QZi/s0FA7L1BQOy9QXhQwUFA7L1B",
          "dtype": "f4"
         },
         "yaxis": "y"
        }
       ],
       "layout": {
        "coloraxis": {
         "colorbar": {
          "title": {
           "text": "Speed (knots)"
          }
         },
         "colorscale": [
          [
           0,
           "#0d0887"
          ],
          [
           0.1111111111111111,
           "#46039f"
          ],
          [
           0.2222222222222222,
           "#7201a8"
          ],
          [
           0.3333333333333333,
           "#9c179e"
          ],
          [
           0.4444444444444444,
           "#bd3786"
          ],
          [
           0.5555555555555556,
           "#d8576b"
          ],
          [
           0.6666666666666666,
           "#ed7953"
          ],
          [
           0.7777777777777778,
           "#fb9f3a"
          ],
          [
           0.8888888888888888,
           "#fdca26"
          ],
          [
           1,
           "#f0f921"
          ]
         ]
        },
        "legend": {
         "tracegroupgap": 0
        },
        "template": {
         "data": {
          "bar": [
           {
            "error_x": {
             "color": "#2a3f5f"
            },
            "error_y": {
             "color": "#2a3f5f"
            },
            "marker": {
             "line": {
              "color": "#E5ECF6",
              "width": 0.5
             },
             "pattern": {
              "fillmode": "overlay",
              "size": 10,
              "solidity": 0.2
             }
            },
            "type": "bar"
           }
          ],
          "barpolar": [
           {
            "marker": {
             "line": {
              "color": "#E5ECF6",
              "width": 0.5
             },
             "pattern": {
              "fillmode": "overlay",
              "size": 10,
              "solidity": 0.2
             }
            },
            "type": "barpolar"
           }
          ],
          "carpet": [
           {
            "aaxis": {
             "endlinecolor": "#2a3f5f",
             "gridcolor": "white",
             "linecolor": "white",
             "minorgridcolor": "white",
             "startlinecolor": "#2a3f5f"
            },
            "baxis": {
             "endlinecolor": "#2a3f5f",
             "gridcolor": "white",
             "linecolor": "white",
             "minorgridcolor": "white",
             "startlinecolor": "#2a3f5f"
            },
            "type": "carpet"
           }
          ],
          "choropleth": [
           {
            "colorbar": {
             "outlinewidth": 0,
             "ticks": ""
            },
            "type": "choropleth"
           }
          ],
          "contour": [
           {
            "colorbar": {
             "outlinewidth": 0,
             "ticks": ""
            },
            "colorscale": [
             [
              0,
              "#0d0887"
             ],
             [
              0.1111111111111111,
              "#46039f"
             ],
             [
              0.2222222222222222,
              "#7201a8"
             ],
             [
              0.3333333333333333,
              "#9c179e"
             ],
             [
              0.4444444444444444,
              "#bd3786"
             ],
             [
              0.5555555555555556,
              "#d8576b"
             ],
             [
              0.6666666666666666,
              "#ed7953"
             ],
             [
              0.7777777777777778,
              "#fb9f3a"
             ],
             [
              0.8888888888888888,
              "#fdca26"
             ],
             [
              1,
              "#f0f921"
             ]
            ],
            "type": "contour"
           }
          ],
          "contourcarpet": [
           {
            "colorbar": {
             "outlinewidth": 0,
             "ticks": ""
            },
            "type": "contourcarpet"
           }
          ],
          "heatmap": [
           {
            "colorbar": {
             "outlinewidth": 0,
             "ticks": ""
            },
            "colorscale": [
             [
              0,
              "#0d0887"
             ],
             [
              0.1111111111111111,
              "#46039f"
             ],
             [
              0.2222222222222222,
              "#7201a8"
             ],
             [
              0.3333333333333333,
              "#9c179e"
             ],
             [
              0.4444444444444444,
              "#bd3786"
             ],
             [
              0.5555555555555556,
              "#d8576b"
             ],
             [
              0.6666666666666666,
              "#ed7953"
             ],
             [
              0.7777777777777778,
              "#fb9f3a"
             ],
             [
              0.8888888888888888,
              "#fdca26"
             ],
             [
              1,
              "#f0f921"
             ]
            ],
            "type": "heatmap"
           }
          ],
          "histogram": [
           {
            "marker": {
             "pattern": {
              "fillmode": "overlay",
              "size": 10,
              "solidity": 0.2
             }
            },
            "type": "histogram"
           }
          ],
          "histogram2d": [
           {
            "colorbar": {
             "outlinewidth": 0,
             "ticks": ""
            },
            "colorscale": [
             [
              0,
              "#0d0887"
             ],
             [
              0.1111111111111111,
              "#46039f"
             ],
             [
              0.2222222222222222,
              "#7201a8"
             ],
             [
              0.3333333333333333,
              "#9c179e"
             ],
             [
              0.4444444444444444,
              "#bd3786"
             ],
             [
              0.5555555555555556,
              "#d8576b"
             ],
             [
              0.6666666666666666,
              "#ed7953"
             ],
             [
              0.7777777777777778,
              "#fb9f3a"
             ],
             [
              0.8888888888888888,
              "#fdca26"
             ],
             [
              1,
              "#f0f921"
             ]
            ],
            "type": "histogram2d"
           }
          ],
          "histogram2dcontour": [
           {
            "colorbar": {
             "outlinewidth": 0,
             "ticks": ""
            },
            "colorscale": [
             [
              0,
              "#0d0887"
             ],
             [
              0.1111111111111111,
              "#46039f"
             ],
             [
              0.2222222222222222,
              "#7201a8"
             ],
             [
              0.3333333333333333,
              "#9c179e"
             ],
             [
              0.4444444444444444,
              "#bd3786"
             ],
             [
              0.5555555555555556,
              "#d8576b"
             ],
             [
              0.6666666666666666,
              "#ed7953"
             ],
             [
              0.7777777777777778,
              "#fb9f3a"
             ],
             [
              0.8888888888888888,
              "#fdca26"
             ],
             [
              1,
              "#f0f921"
             ]
            ],
            "type": "histogram2dcontour"
           }
          ],
          "mesh3d": [
           {
            "colorbar": {
             "outlinewidth": 0,
             "ticks": ""
            },
            "type": "mesh3d"
           }
          ],
          "parcoords": [
           {
            "line": {
             "colorbar": {
              "outlinewidth": 0,
              "ticks": ""
             }
            },
            "type": "parcoords"
           }
          ],
          "pie": [
           {
            "automargin": true,
            "type": "pie"
           }
          ],
          "scatter": [
           {
            "fillpattern": {
             "fillmode": "overlay",
             "size": 10,
             "solidity": 0.2
            },
            "type": "scatter"
           }
          ],
          "scatter3d": [
           {
            "line": {
             "colorbar": {
              "outlinewidth": 0,
              "ticks": ""
             }
            },
            "marker": {
             "colorbar": {
              "outlinewidth": 0,
              "ticks": ""
             }
            },
            "type": "scatter3d"
           }
          ],
          "scattercarpet": [
           {
            "marker": {
             "colorbar": {
              "outlinewidth": 0,
              "ticks": ""
             }
            },
            "type": "scattercarpet"
           }
          ],
          "scattergeo": [
           {
            "marker": {
             "colorbar": {
              "outlinewidth": 0,
              "ticks": ""
             }
            },
            "type": "scattergeo"
           }
          ],
          "scattergl": [
           {
            "marker": {
             "colorbar": {
              "outlinewidth": 0,
              "ticks": ""
             }
            },
            "type": "scattergl"
           }
          ],
          "scattermap": [
           {
            "marker": {
             "colorbar": {
              "outlinewidth": 0,
              "ticks": ""
             }
            },
            "type": "scattermap"
           }
          ],
          "scattermapbox": [
           {
            "marker": {
             "colorbar": {
              "outlinewidth": 0,
              "ticks": ""
             }
            },
            "type": "scattermapbox"
           }
          ],
          "scatterpolar": [
           {
            "marker": {
             "colorbar": {
              "outlinewidth": 0,
              "ticks": ""
             }
            },
            "type": "scatterpolar"
           }
          ],
          "scatterpolargl": [
           {
            "marker": {
             "colorbar": {
              "outlinewidth": 0,
              "ticks": ""
             }
            },
            "type": "scatterpolargl"
           }
          ],
          "scatterternary": [
           {
            "marker": {
             "colorbar": {
              "outlinewidth": 0,
              "ticks": ""
             }
            },
            "type": "scatterternary"
           }
          ],
          "surface": [
           {
            "colorbar": {
             "outlinewidth": 0,
             "ticks": ""
            },
            "colorscale": [
             [
              0,
              "#0d0887"
             ],
             [
              0.1111111111111111,
              "#46039f"
             ],
             [
              0.2222222222222222,
              "#7201a8"
             ],
             [
              0.3333333333333333,
              "#9c179e"
             ],
             [
              0.4444444444444444,
              "#bd3786"
             ],
             [
              0.5555555555555556,
              "#d8576b"
             ],
             [
              0.6666666666666666,
              "#ed7953"
             ],
             [
              0.7777777777777778,
              "#fb9f3a"
             ],
             [
              0.8888888888888888,
              "#fdca26"
             ],
             [
              1,
              "#f0f921"
             ]
            ],
            "type": "surface"
           }
          ],
          "table": [
           {
            "cells": {
             "fill": {
              "color": "#EBF0F8"
             },
             "line": {
              "color": "white"
             }
            },
            "header": {
             "fill": {
              "color": "#C8D4E3"
             },
             "line": {
              "color": "white"
             }
            },
            "type": "table"
           }
          ]
         },
         "layout": {
          "annotationdefaults": {
           "arrowcolor": "#2a3f5f",
           "arrowhead": 0,
           "arrowwidth": 1
          },
          "autotypenumbers": "strict",
          "coloraxis": {
           "colorbar": {
            "outlinewidth": 0,
            "ticks": ""
           }
          },
          "colorscale": {
           "diverging": [
            [
             0,
             "#8e0152"
            ],
            [
             0.1,
             "#c51b7d"
            ],
            [
             0.2,
             "#de77ae"
            ],
            [
             0.3,
             "#f1b6da"
            ],
            [
             0.4,
             "#fde0ef"
            ],
            [
             0.5,
             "#f7f7f7"
            ],
            [
             0.6,
             "#e6f5d0"
            ],
            [
             0.7,
             "#b8e186"
            ],
            [
             0.8,
             "#7fbc41"
            ],
            [
             0.9,
             "#4d9221"
            ],
            [
             1,
             "#276419"
            ]
           ],
           "sequential": [
            [
             0,
             "#0d0887"
            ],
            [
             0.1111111111111111,
             "#46039f"
            ],
            [
             0.2222222222222222,
             "#7201a8"
            ],
            [
             0.3333333333333333,
             "#9c179e"
            ],
            [
             0.4444444444444444,
             "#bd3786"
            ],
            [
             0.5555555555555556,
             "#d8576b"
            ],
            [
             0.6666666666666666,
             "#ed7953"
            ],
            [
             0.7777777777777778,
             "#fb9f3a"
            ],
            [
             0.8888888888888888,
             "#fdca26"
            ],
            [
             1,
             "#f0f921"
            ]
           ],
           "sequentialminus": [
            [
             0,
             "#0d0887"
            ],
            [
             0.1111111111111111,
             "#46039f"
            ],
            [
             0.2222222222222222,
             "#7201a8"
            ],
            [
             0.3333333333333333,
             "#9c179e"
            ],
            [
             0.4444444444444444,
             "#bd3786"
            ],
            [
             0.5555555555555556,
             "#d8576b"
            ],
            [
             0.6666666666666666,
             "#ed7953"
            ],
            [
             0.7777777777777778,
             "#fb9f3a"
            ],
            [
             0.8888888888888888,
             "#fdca26"
            ],
            [
             1,
             "#f0f921"
            ]
           ]
          },
          "colorway": [
           "#636efa",
           "#EF553B",
           "#00cc96",
           "#ab63fa",
           "#FFA15A",
           "#19d3f3",
           "#FF6692",
           "#B6E880",
           "#FF97FF",
           "#FECB52"
          ],
          "font": {
           "color": "#2a3f5f"
          },
          "geo": {
           "bgcolor": "white",
           "lakecolor": "white",
           "landcolor": "#E5ECF6",
           "showlakes": true,
           "showland": true,
           "subunitcolor": "white"
          },
          "hoverlabel": {
           "align": "left"
          },
          "hovermode": "closest",
          "mapbox": {
           "style": "light"
          },
          "paper_bgcolor": "white",
          "plot_bgcolor": "#E5ECF6",
          "polar": {
           "angularaxis": {
            "gridcolor": "white",
            "linecolor": "white",
            "ticks": ""
           },
           "bgcolor": "#E5ECF6",
           "radialaxis": {
            "gridcolor": "white",
            "linecolor": "white",
            "ticks": ""
           }
          },
          "scene": {
           "xaxis": {
            "backgroundcolor": "#E5ECF6",
            "gridcolor": "white",
            "gridwidth": 2,
            "linecolor": "white",
            "showbackground": true,
            "ticks": "",
            "zerolinecolor": "white"
           },
           "yaxis": {
            "backgroundcolor": "#E5ECF6",
            "gridcolor": "white",
            "gridwidth": 2,
            "linecolor": "white",
            "showbackground": true,
            "ticks": "",
            "zerolinecolor": "white"
           },
           "zaxis": {
            "backgroundcolor": "#E5ECF6",
            "gridcolor": "white",
            "gridwidth": 2,
            "linecolor": "white",
            "showbackground": true,
            "ticks": "",
            "zerolinecolor": "white"
           }
          },
          "shapedefaults": {
           "line": {
            "color": "#2a3f5f"
           }
          },
          "ternary": {
           "aaxis": {
            "gridcolor": "white",
            "linecolor": "white",
            "ticks": ""
           },
           "baxis": {
            "gridcolor": "white",
            "linecolor": "white",
            "ticks": ""
           },
           "bgcolor": "#E5ECF6",
           "caxis": {
            "gridcolor": "white",
            "linecolor": "white",
            "ticks": ""
           }
          },
          "title": {
           "x": 0.05
          },
          "xaxis": {
           "automargin": true,
           "gridcolor": "white",
           "linecolor": "white",
           "ticks": "",
           "title": {
            "standoff": 15
           },
           "zerolinecolor": "white",
           "zerolinewidth": 2
          },
          "yaxis": {
           "automargin": true,
           "gridcolor": "white",
           "linecolor": "white",
           "ticks": "",
           "title": {
            "standoff": 15
           },
           "zerolinecolor": "white",
           "zerolinewidth": 2
          }
         }
        },
        "title": {
         "text": "Trajectory relative to start (meters)"
        },
        "xaxis": {
         "anchor": "y",
         "domain": [
          0,
          1
         ],
         "title": {
          "text": "East (m)"
         }
        },
        "yaxis": {
         "anchor": "x",
         "domain": [
          0,
          1
         ],
         "scaleanchor": "x",
         "scaleratio": 1,
         "title": {
          "text": "North (m)"
         }
        }
       }
      }
     },
     "metadata": {},
     "output_type": "display_data"
    }
   ],
   "source": [
    "# Convert collected pose_data into a DataFrame and plot relative trajectory\n",
    "import plotly.express as px\n",
    "import math\n",
    "\n",
    "\n",
    "# Reference (start) point\n",
    "lat0 = pose_df.loc[0, 'lat']\n",
    "lon0 = pose_df.loc[0, 'lon']\n",
    "\n",
    "# Approximate conversion: meters per degree latitude ~= 111132, longitude scaled by cos(lat)\n",
    "meters_per_deg_lat = 111132.0\n",
    "meters_per_deg_lon = 111320.0 * math.cos(math.radians(lat0))\n",
    "\n",
    "pose_df['x_m'] = (pose_df['lon'] - lon0) * meters_per_deg_lon\n",
    "pose_df['y_m'] = (pose_df['lat'] - lat0) * meters_per_deg_lat\n",
    "\n",
    "# Create a simple scatter plot of trajectory (x east, y north)\n",
    "fig = px.scatter(pose_df, x='x_m', y='y_m', color='vel',\n",
    "                    title='Trajectory relative to start (meters)',\n",
    "                    labels={'x_m': 'East (m)', 'y_m': 'North (m)', 'vel': 'Speed (knots)'} ,\n",
    "                    hover_data=['lat', 'lon', 'vel'])\n",
    "fig.update_traces(mode='lines+markers')\n",
    "fig.update_layout(yaxis=dict(scaleanchor='x', scaleratio=1))\n",
    "fig.show()"
   ]
  },
  {
   "cell_type": "code",
   "execution_count": 21,
   "id": "bc4b98fe",
   "metadata": {},
   "outputs": [
    {
     "data": {
      "application/vnd.plotly.v1+json": {
       "config": {
        "plotlyServerURL": "https://plot.ly"
       },
       "data": [
        {
         "hovertemplate": "x=%{x}<br>y=%{y}<extra></extra>",
         "legendgroup": "",
         "marker": {
          "color": "#636efa",
          "symbol": "circle"
         },
         "mode": "lines+markers",
         "name": "",
         "orientation": "v",
         "showlegend": false,
         "type": "scatter",
         "x": {
          "bdata": "AAABAAIAAwAEAAUABgAHAAgACQAKAAsADAANAA4ADwAQABEAEgATABQAFQAWABcAGAAZABoAGwAcAB0AHgAfACAAIQAiACMAJAAlACYAJwAoACkAKgArACwALQAuAC8AMAAxADIAMwA0ADUANgA3ADgAOQA6ADsAPAA9AD4APwBAAEEAQgBDAEQARQBGAEcASABJAEoASwBMAE0ATgBPAFAAUQBSAFMAVABVAFYAVwBYAFkAWgBbAFwAXQBeAF8AYABhAGIAYwBkAGUAZgBnAGgAaQBqAGsAbABtAG4AbwBwAHEAcgBzAHQAdQB2AHcAeAB5AHoAewB8AH0AfgB/AIAAgQCCAIMAhACFAIYAhwCIAIkAigCLAIwAjQCOAI8AkACRAJIAkwCUAJUAlgCXAJgAmQCaAJsAnACdAJ4AnwCgAKEAogCjAKQApQCmAKcAqACpAKoAqwCsAK0ArgCvALAAsQCyALMAtAC1ALYAtwC4ALkAugC7ALwAvQC+AL8AwADBAMIAwwDEAMUAxgDHAMgAyQDKAMsAzADNAM4AzwDQANEA",
          "dtype": "i2"
         },
         "xaxis": "x",
         "y": {
          "bdata": "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",
          "dtype": "f8"
         },
         "yaxis": "y"
        }
       ],
       "layout": {
        "legend": {
         "tracegroupgap": 0
        },
        "margin": {
         "t": 60
        },
        "template": {
         "data": {
          "bar": [
           {
            "error_x": {
             "color": "#2a3f5f"
            },
            "error_y": {
             "color": "#2a3f5f"
            },
            "marker": {
             "line": {
              "color": "#E5ECF6",
              "width": 0.5
             },
             "pattern": {
              "fillmode": "overlay",
              "size": 10,
              "solidity": 0.2
             }
            },
            "type": "bar"
           }
          ],
          "barpolar": [
           {
            "marker": {
             "line": {
              "color": "#E5ECF6",
              "width": 0.5
             },
             "pattern": {
              "fillmode": "overlay",
              "size": 10,
              "solidity": 0.2
             }
            },
            "type": "barpolar"
           }
          ],
          "carpet": [
           {
            "aaxis": {
             "endlinecolor": "#2a3f5f",
             "gridcolor": "white",
             "linecolor": "white",
             "minorgridcolor": "white",
             "startlinecolor": "#2a3f5f"
            },
            "baxis": {
             "endlinecolor": "#2a3f5f",
             "gridcolor": "white",
             "linecolor": "white",
             "minorgridcolor": "white",
             "startlinecolor": "#2a3f5f"
            },
            "type": "carpet"
           }
          ],
          "choropleth": [
           {
            "colorbar": {
             "outlinewidth": 0,
             "ticks": ""
            },
            "type": "choropleth"
           }
          ],
          "contour": [
           {
            "colorbar": {
             "outlinewidth": 0,
             "ticks": ""
            },
            "colorscale": [
             [
              0,
              "#0d0887"
             ],
             [
              0.1111111111111111,
              "#46039f"
             ],
             [
              0.2222222222222222,
              "#7201a8"
             ],
             [
              0.3333333333333333,
              "#9c179e"
             ],
             [
              0.4444444444444444,
              "#bd3786"
             ],
             [
              0.5555555555555556,
              "#d8576b"
             ],
             [
              0.6666666666666666,
              "#ed7953"
             ],
             [
              0.7777777777777778,
              "#fb9f3a"
             ],
             [
              0.8888888888888888,
              "#fdca26"
             ],
             [
              1,
              "#f0f921"
             ]
            ],
            "type": "contour"
           }
          ],
          "contourcarpet": [
           {
            "colorbar": {
             "outlinewidth": 0,
             "ticks": ""
            },
            "type": "contourcarpet"
           }
          ],
          "heatmap": [
           {
            "colorbar": {
             "outlinewidth": 0,
             "ticks": ""
            },
            "colorscale": [
             [
              0,
              "#0d0887"
             ],
             [
              0.1111111111111111,
              "#46039f"
             ],
             [
              0.2222222222222222,
              "#7201a8"
             ],
             [
              0.3333333333333333,
              "#9c179e"
             ],
             [
              0.4444444444444444,
              "#bd3786"
             ],
             [
              0.5555555555555556,
              "#d8576b"
             ],
             [
              0.6666666666666666,
              "#ed7953"
             ],
             [
              0.7777777777777778,
              "#fb9f3a"
             ],
             [
              0.8888888888888888,
              "#fdca26"
             ],
             [
              1,
              "#f0f921"
             ]
            ],
            "type": "heatmap"
           }
          ],
          "histogram": [
           {
            "marker": {
             "pattern": {
              "fillmode": "overlay",
              "size": 10,
              "solidity": 0.2
             }
            },
            "type": "histogram"
           }
          ],
          "histogram2d": [
           {
            "colorbar": {
             "outlinewidth": 0,
             "ticks": ""
            },
            "colorscale": [
             [
              0,
              "#0d0887"
             ],
             [
              0.1111111111111111,
              "#46039f"
             ],
             [
              0.2222222222222222,
              "#7201a8"
             ],
             [
              0.3333333333333333,
              "#9c179e"
             ],
             [
              0.4444444444444444,
              "#bd3786"
             ],
             [
              0.5555555555555556,
              "#d8576b"
             ],
             [
              0.6666666666666666,
              "#ed7953"
             ],
             [
              0.7777777777777778,
              "#fb9f3a"
             ],
             [
              0.8888888888888888,
              "#fdca26"
             ],
             [
              1,
              "#f0f921"
             ]
            ],
            "type": "histogram2d"
           }
          ],
          "histogram2dcontour": [
           {
            "colorbar": {
             "outlinewidth": 0,
             "ticks": ""
            },
            "colorscale": [
             [
              0,
              "#0d0887"
             ],
             [
              0.1111111111111111,
              "#46039f"
             ],
             [
              0.2222222222222222,
              "#7201a8"
             ],
             [
              0.3333333333333333,
              "#9c179e"
             ],
             [
              0.4444444444444444,
              "#bd3786"
             ],
             [
              0.5555555555555556,
              "#d8576b"
             ],
             [
              0.6666666666666666,
              "#ed7953"
             ],
             [
              0.7777777777777778,
              "#fb9f3a"
             ],
             [
              0.8888888888888888,
              "#fdca26"
             ],
             [
              1,
              "#f0f921"
             ]
            ],
            "type": "histogram2dcontour"
           }
          ],
          "mesh3d": [
           {
            "colorbar": {
             "outlinewidth": 0,
             "ticks": ""
            },
            "type": "mesh3d"
           }
          ],
          "parcoords": [
           {
            "line": {
             "colorbar": {
              "outlinewidth": 0,
              "ticks": ""
             }
            },
            "type": "parcoords"
           }
          ],
          "pie": [
           {
            "automargin": true,
            "type": "pie"
           }
          ],
          "scatter": [
           {
            "fillpattern": {
             "fillmode": "overlay",
             "size": 10,
             "solidity": 0.2
            },
            "type": "scatter"
           }
          ],
          "scatter3d": [
           {
            "line": {
             "colorbar": {
              "outlinewidth": 0,
              "ticks": ""
             }
            },
            "marker": {
             "colorbar": {
              "outlinewidth": 0,
              "ticks": ""
             }
            },
            "type": "scatter3d"
           }
          ],
          "scattercarpet": [
           {
            "marker": {
             "colorbar": {
              "outlinewidth": 0,
              "ticks": ""
             }
            },
            "type": "scattercarpet"
           }
          ],
          "scattergeo": [
           {
            "marker": {
             "colorbar": {
              "outlinewidth": 0,
              "ticks": ""
             }
            },
            "type": "scattergeo"
           }
          ],
          "scattergl": [
           {
            "marker": {
             "colorbar": {
              "outlinewidth": 0,
              "ticks": ""
             }
            },
            "type": "scattergl"
           }
          ],
          "scattermap": [
           {
            "marker": {
             "colorbar": {
              "outlinewidth": 0,
              "ticks": ""
             }
            },
            "type": "scattermap"
           }
          ],
          "scattermapbox": [
           {
            "marker": {
             "colorbar": {
              "outlinewidth": 0,
              "ticks": ""
             }
            },
            "type": "scattermapbox"
           }
          ],
          "scatterpolar": [
           {
            "marker": {
             "colorbar": {
              "outlinewidth": 0,
              "ticks": ""
             }
            },
            "type": "scatterpolar"
           }
          ],
          "scatterpolargl": [
           {
            "marker": {
             "colorbar": {
              "outlinewidth": 0,
              "ticks": ""
             }
            },
            "type": "scatterpolargl"
           }
          ],
          "scatterternary": [
           {
            "marker": {
             "colorbar": {
              "outlinewidth": 0,
              "ticks": ""
             }
            },
            "type": "scatterternary"
           }
          ],
          "surface": [
           {
            "colorbar": {
             "outlinewidth": 0,
             "ticks": ""
            },
            "colorscale": [
             [
              0,
              "#0d0887"
             ],
             [
              0.1111111111111111,
              "#46039f"
             ],
             [
              0.2222222222222222,
              "#7201a8"
             ],
             [
              0.3333333333333333,
              "#9c179e"
             ],
             [
              0.4444444444444444,
              "#bd3786"
             ],
             [
              0.5555555555555556,
              "#d8576b"
             ],
             [
              0.6666666666666666,
              "#ed7953"
             ],
             [
              0.7777777777777778,
              "#fb9f3a"
             ],
             [
              0.8888888888888888,
              "#fdca26"
             ],
             [
              1,
              "#f0f921"
             ]
            ],
            "type": "surface"
           }
          ],
          "table": [
           {
            "cells": {
             "fill": {
              "color": "#EBF0F8"
             },
             "line": {
              "color": "white"
             }
            },
            "header": {
             "fill": {
              "color": "#C8D4E3"
             },
             "line": {
              "color": "white"
             }
            },
            "type": "table"
           }
          ]
         },
         "layout": {
          "annotationdefaults": {
           "arrowcolor": "#2a3f5f",
           "arrowhead": 0,
           "arrowwidth": 1
          },
          "autotypenumbers": "strict",
          "coloraxis": {
           "colorbar": {
            "outlinewidth": 0,
            "ticks": ""
           }
          },
          "colorscale": {
           "diverging": [
            [
             0,
             "#8e0152"
            ],
            [
             0.1,
             "#c51b7d"
            ],
            [
             0.2,
             "#de77ae"
            ],
            [
             0.3,
             "#f1b6da"
            ],
            [
             0.4,
             "#fde0ef"
            ],
            [
             0.5,
             "#f7f7f7"
            ],
            [
             0.6,
             "#e6f5d0"
            ],
            [
             0.7,
             "#b8e186"
            ],
            [
             0.8,
             "#7fbc41"
            ],
            [
             0.9,
             "#4d9221"
            ],
            [
             1,
             "#276419"
            ]
           ],
           "sequential": [
            [
             0,
             "#0d0887"
            ],
            [
             0.1111111111111111,
             "#46039f"
            ],
            [
             0.2222222222222222,
             "#7201a8"
            ],
            [
             0.3333333333333333,
             "#9c179e"
            ],
            [
             0.4444444444444444,
             "#bd3786"
            ],
            [
             0.5555555555555556,
             "#d8576b"
            ],
            [
             0.6666666666666666,
             "#ed7953"
            ],
            [
             0.7777777777777778,
             "#fb9f3a"
            ],
            [
             0.8888888888888888,
             "#fdca26"
            ],
            [
             1,
             "#f0f921"
            ]
           ],
           "sequentialminus": [
            [
             0,
             "#0d0887"
            ],
            [
             0.1111111111111111,
             "#46039f"
            ],
            [
             0.2222222222222222,
             "#7201a8"
            ],
            [
             0.3333333333333333,
             "#9c179e"
            ],
            [
             0.4444444444444444,
             "#bd3786"
            ],
            [
             0.5555555555555556,
             "#d8576b"
            ],
            [
             0.6666666666666666,
             "#ed7953"
            ],
            [
             0.7777777777777778,
             "#fb9f3a"
            ],
            [
             0.8888888888888888,
             "#fdca26"
            ],
            [
             1,
             "#f0f921"
            ]
           ]
          },
          "colorway": [
           "#636efa",
           "#EF553B",
           "#00cc96",
           "#ab63fa",
           "#FFA15A",
           "#19d3f3",
           "#FF6692",
           "#B6E880",
           "#FF97FF",
           "#FECB52"
          ],
          "font": {
           "color": "#2a3f5f"
          },
          "geo": {
           "bgcolor": "white",
           "lakecolor": "white",
           "landcolor": "#E5ECF6",
           "showlakes": true,
           "showland": true,
           "subunitcolor": "white"
          },
          "hoverlabel": {
           "align": "left"
          },
          "hovermode": "closest",
          "mapbox": {
           "style": "light"
          },
          "paper_bgcolor": "white",
          "plot_bgcolor": "#E5ECF6",
          "polar": {
           "angularaxis": {
            "gridcolor": "white",
            "linecolor": "white",
            "ticks": ""
           },
           "bgcolor": "#E5ECF6",
           "radialaxis": {
            "gridcolor": "white",
            "linecolor": "white",
            "ticks": ""
           }
          },
          "scene": {
           "xaxis": {
            "backgroundcolor": "#E5ECF6",
            "gridcolor": "white",
            "gridwidth": 2,
            "linecolor": "white",
            "showbackground": true,
            "ticks": "",
            "zerolinecolor": "white"
           },
           "yaxis": {
            "backgroundcolor": "#E5ECF6",
            "gridcolor": "white",
            "gridwidth": 2,
            "linecolor": "white",
            "showbackground": true,
            "ticks": "",
            "zerolinecolor": "white"
           },
           "zaxis": {
            "backgroundcolor": "#E5ECF6",
            "gridcolor": "white",
            "gridwidth": 2,
            "linecolor": "white",
            "showbackground": true,
            "ticks": "",
            "zerolinecolor": "white"
           }
          },
          "shapedefaults": {
           "line": {
            "color": "#2a3f5f"
           }
          },
          "ternary": {
           "aaxis": {
            "gridcolor": "white",
            "linecolor": "white",
            "ticks": ""
           },
           "baxis": {
            "gridcolor": "white",
            "linecolor": "white",
            "ticks": ""
           },
           "bgcolor": "#E5ECF6",
           "caxis": {
            "gridcolor": "white",
            "linecolor": "white",
            "ticks": ""
           }
          },
          "title": {
           "x": 0.05
          },
          "xaxis": {
           "automargin": true,
           "gridcolor": "white",
           "linecolor": "white",
           "ticks": "",
           "title": {
            "standoff": 15
           },
           "zerolinecolor": "white",
           "zerolinewidth": 2
          },
          "yaxis": {
           "automargin": true,
           "gridcolor": "white",
           "linecolor": "white",
           "ticks": "",
           "title": {
            "standoff": 15
           },
           "zerolinecolor": "white",
           "zerolinewidth": 2
          }
         }
        },
        "xaxis": {
         "anchor": "y",
         "domain": [
          0,
          1
         ],
         "title": {
          "text": "x"
         }
        },
        "yaxis": {
         "anchor": "x",
         "domain": [
          0,
          1
         ],
         "title": {
          "text": "y"
         }
        }
       }
      }
     },
     "metadata": {},
     "output_type": "display_data"
    }
   ],
   "source": [
    "# Convert collected pose_data into a DataFrame and plot relative trajectory\n",
    "import plotly.express as px\n",
    "\n",
    "\n",
    "pose_df['vel_mean'] = pose_df['vel'].rolling(window=5, min_periods=1, center=False).mean()\n",
    "\n",
    "\n",
    "\n",
    "\n",
    "# Create a simple scatter plot of trajectory (x east, y north)\n",
    "fig = px.scatter(x=range(len(pose_df)), y=pose_df['vel_mean'])\n",
    "fig.update_traces(mode='lines+markers')\n",
    "fig.show()"
   ]
  },
  {
   "cell_type": "code",
   "execution_count": 22,
   "id": "60d3d250",
   "metadata": {},
   "outputs": [
    {
     "data": {
      "application/vnd.plotly.v1+json": {
       "config": {
        "plotlyServerURL": "https://plot.ly"
       },
       "data": [
        {
         "customdata": {
          "bdata": "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",
          "dtype": "f4",
          "shape": "210, 3"
         },
         "hovertemplate": "lat=%{customdata[0]}<br>lon=%{customdata[1]}<br>vel=%{customdata[2]}<extra></extra>",
         "lat": {
          "bdata": "OWMXQjljF0I7YxdCPGMXQjxjF0I8YxdCPGMXQjxjF0I8YxdCPGMXQjxjF0I+YxdCPmMXQj5jF0I+YxdCPmMXQj9jF0I/YxdCQWMXQkFjF0JDYxdCRGMXQkRjF0JEYxdCRGMXQkRjF0JEYxdCRGMXQkRjF0JEYxdCRmMXQkZjF0JHYxdCR2MXQkdjF0JHYxdCR2MXQkpjF0JMYxdCTGMXQk1jF0JNYxdCTWMXQk1jF0JNYxdCT2MXQk9jF0JPYxdCT2MXQlBjF0JQYxdCUGMXQlBjF0JQYxdCUmMXQlJjF0JUYxdCUmMXQlJjF0JQYxdCUGMXQk9jF0JUYxdCVGMXQlljF0JZYxdCVGMXQlRjF0JQYxdCT2MXQk1jF0JMYxdCTGMXQkxjF0JMYxdCTGMXQkpjF0JMYxdCSmMXQkxjF0JMYxdCRmMXQkRjF0JKYxdCSmMXQkZjF0JKYxdCRmMXQkpjF0JMYxdCTWMXQk9jF0JSYxdCXWMXQmNjF0JjYxdCZmMXQmZjF0JlYxdCY2MXQmBjF0JbYxdCWWMXQlVjF0JSYxdCT2MXQkxjF0JMYxdCTGMXQk1jF0JQYxdCVGMXQlVjF0JbYxdCW2MXQlVjF0JUYxdCUGMXQlRjF0JSYxdCUGMXQk9jF0JMYxdCR2MXQkRjF0I+YxdCPGMXQjZjF0I1YxdCNWMXQjVjF0I1YxdCNWMXQjZjF0I1YxdCNWMXQjNjF0IyYxdCM2MXQjNjF0IyYxdCMmMXQjJjF0IwYxdCMGMXQjBjF0IuYxdCLmMXQi5jF0IuYxdCLmMXQi1jF0ItYxdCLWMXQi1jF0ItYxdCLWMXQi1jF0IrYxdCK2MXQipjF0IqYxdCKmMXQipjF0InYxdCJ2MXQidjF0InYxdCJ2MXQiVjF0IlYxdCJWMXQiVjF0IlYxdCJGMXQiRjF0IlYxdCJWMXQipjF0ItYxdCMmMXQjVjF0I5YxdCPGMXQj9jF0JEYxdCRmMXQkpjF0JNYxdCUmMXQlRjF0JZYxdCW2MXQl5jF0JgYxdCY2MXQmVjF0JlYxdCamMXQm9jF0JqYxdCamMXQmxjF0JuYxdCb2MXQm5jF0JxYxdCcWMXQnJjF0JxYxdC",
          "dtype": "f4"
         },
         "legendgroup": "",
         "line": {
          "color": "#636efa"
         },
         "lon": {
          "bdata": "sY70wrGO9MKvjvTCr470wrGO9MKxjvTCsY70wrGO9MKxjvTCsY70wrGO9MKxjvTCsY70wrGO9MKxjvTCsY70wrGO9MKvjvTCq470wqmO9MKpjvTCpo70wqKO9MKgjvTCno70wp6O9MKcjvTCl470wpeO9MKVjvTCk470wpOO9MKPjvTCj470wo2O9MKNjvTCi470wouO9MKGjvTCho70woSO9MKEjvTCgo70woKO9MJ+jvTCfo70wn6O9MJ6jvTCeo70wnWO9MJ1jvTCdY70wnWO9MJxjvTCcY70wm2O9MJtjvTCbY70wm2O9MJpjvTCaY70wmmO9MJkjvTCZI70wmSO9MJkjvTCZI70wmCO9MJgjvTCYI70wl6O9MJejvTCXo70wlyO9MJcjvTCV470wleO9MJVjvTCVY70wlOO9MJTjvTCT470wk+O9MJNjvTCS470wkuO9MJGjvTCRo70wkSO9MJCjvTCQo70wj6O9MI8jvTCOo70wjeO9MIzjvTCMY70wi+O9MIvjvTCL470wi+O9MIvjvTCK470wi+O9MIvjvTCL470wi+O9MIxjvTCMY70wjGO9MIzjvTCM470wjeO9MI3jvTCOo70wjyO9MI+jvTCPo70wkKO9MJCjvTCQo70wkSO9MJEjvTCRo70wkuO9MJNjvTCTY70wk2O9MJPjvTCU470wlWO9MJXjvTCXI70wl6O9MJgjvTCYI70wmSO9MJkjvTCZI70wmmO9MJpjvTCbY70wm2O9MJtjvTCcY70wnGO9MJ1jvTCdY70wnWO9MJ6jvTCfo70wn6O9MJ+jvTCgo70woKO9MKEjvTCho70wouO9MKLjvTCjY70wo+O9MKPjvTCj470wpOO9MKTjvTClY70wpWO9MKXjvTCl470wpyO9MKcjvTCno70wqCO9MKgjvTCoo70wqaO9MKmjvTCqY70wqmO9MKpjvTCqY70wquO9MKrjvTCr470wq+O9MKvjvTCr470wrGO9MKxjvTCsY70wrOO9MKzjvTCs470wrOO9MKzjvTCs470wreO9MK3jvTCt470wreO9MK3jvTCt470wreO9MK3jvTCuo70wrqO9MK8jvTCvI70wryO9MK8jvTC",
          "dtype": "f4"
         },
         "mode": "lines",
         "name": "",
         "showlegend": false,
         "subplot": "map",
         "type": "scattermap"
        }
       ],
       "layout": {
        "legend": {
         "tracegroupgap": 0
        },
        "map": {
         "center": {
          "lat": 37.84695053100586,
          "lon": -122.27827453613281
         },
         "domain": {
          "x": [
           0,
           1
          ],
          "y": [
           0,
           1
          ]
         },
         "zoom": 15
        },
        "mapbox": {
         "center": {
          "lat": 37.84695053100586,
          "lon": -122.27827453613281
         },
         "zoom": 15
        },
        "template": {
         "data": {
          "bar": [
           {
            "error_x": {
             "color": "#2a3f5f"
            },
            "error_y": {
             "color": "#2a3f5f"
            },
            "marker": {
             "line": {
              "color": "#E5ECF6",
              "width": 0.5
             },
             "pattern": {
              "fillmode": "overlay",
              "size": 10,
              "solidity": 0.2
             }
            },
            "type": "bar"
           }
          ],
          "barpolar": [
           {
            "marker": {
             "line": {
              "color": "#E5ECF6",
              "width": 0.5
             },
             "pattern": {
              "fillmode": "overlay",
              "size": 10,
              "solidity": 0.2
             }
            },
            "type": "barpolar"
           }
          ],
          "carpet": [
           {
            "aaxis": {
             "endlinecolor": "#2a3f5f",
             "gridcolor": "white",
             "linecolor": "white",
             "minorgridcolor": "white",
             "startlinecolor": "#2a3f5f"
            },
            "baxis": {
             "endlinecolor": "#2a3f5f",
             "gridcolor": "white",
             "linecolor": "white",
             "minorgridcolor": "white",
             "startlinecolor": "#2a3f5f"
            },
            "type": "carpet"
           }
          ],
          "choropleth": [
           {
            "colorbar": {
             "outlinewidth": 0,
             "ticks": ""
            },
            "type": "choropleth"
           }
          ],
          "contour": [
           {
            "colorbar": {
             "outlinewidth": 0,
             "ticks": ""
            },
            "colorscale": [
             [
              0,
              "#0d0887"
             ],
             [
              0.1111111111111111,
              "#46039f"
             ],
             [
              0.2222222222222222,
              "#7201a8"
             ],
             [
              0.3333333333333333,
              "#9c179e"
             ],
             [
              0.4444444444444444,
              "#bd3786"
             ],
             [
              0.5555555555555556,
              "#d8576b"
             ],
             [
              0.6666666666666666,
              "#ed7953"
             ],
             [
              0.7777777777777778,
              "#fb9f3a"
             ],
             [
              0.8888888888888888,
              "#fdca26"
             ],
             [
              1,
              "#f0f921"
             ]
            ],
            "type": "contour"
           }
          ],
          "contourcarpet": [
           {
            "colorbar": {
             "outlinewidth": 0,
             "ticks": ""
            },
            "type": "contourcarpet"
           }
          ],
          "heatmap": [
           {
            "colorbar": {
             "outlinewidth": 0,
             "ticks": ""
            },
            "colorscale": [
             [
              0,
              "#0d0887"
             ],
             [
              0.1111111111111111,
              "#46039f"
             ],
             [
              0.2222222222222222,
              "#7201a8"
             ],
             [
              0.3333333333333333,
              "#9c179e"
             ],
             [
              0.4444444444444444,
              "#bd3786"
             ],
             [
              0.5555555555555556,
              "#d8576b"
             ],
             [
              0.6666666666666666,
              "#ed7953"
             ],
             [
              0.7777777777777778,
              "#fb9f3a"
             ],
             [
              0.8888888888888888,
              "#fdca26"
             ],
             [
              1,
              "#f0f921"
             ]
            ],
            "type": "heatmap"
           }
          ],
          "histogram": [
           {
            "marker": {
             "pattern": {
              "fillmode": "overlay",
              "size": 10,
              "solidity": 0.2
             }
            },
            "type": "histogram"
           }
          ],
          "histogram2d": [
           {
            "colorbar": {
             "outlinewidth": 0,
             "ticks": ""
            },
            "colorscale": [
             [
              0,
              "#0d0887"
             ],
             [
              0.1111111111111111,
              "#46039f"
             ],
             [
              0.2222222222222222,
              "#7201a8"
             ],
             [
              0.3333333333333333,
              "#9c179e"
             ],
             [
              0.4444444444444444,
              "#bd3786"
             ],
             [
              0.5555555555555556,
              "#d8576b"
             ],
             [
              0.6666666666666666,
              "#ed7953"
             ],
             [
              0.7777777777777778,
              "#fb9f3a"
             ],
             [
              0.8888888888888888,
              "#fdca26"
             ],
             [
              1,
              "#f0f921"
             ]
            ],
            "type": "histogram2d"
           }
          ],
          "histogram2dcontour": [
           {
            "colorbar": {
             "outlinewidth": 0,
             "ticks": ""
            },
            "colorscale": [
             [
              0,
              "#0d0887"
             ],
             [
              0.1111111111111111,
              "#46039f"
             ],
             [
              0.2222222222222222,
              "#7201a8"
             ],
             [
              0.3333333333333333,
              "#9c179e"
             ],
             [
              0.4444444444444444,
              "#bd3786"
             ],
             [
              0.5555555555555556,
              "#d8576b"
             ],
             [
              0.6666666666666666,
              "#ed7953"
             ],
             [
              0.7777777777777778,
              "#fb9f3a"
             ],
             [
              0.8888888888888888,
              "#fdca26"
             ],
             [
              1,
              "#f0f921"
             ]
            ],
            "type": "histogram2dcontour"
           }
          ],
          "mesh3d": [
           {
            "colorbar": {
             "outlinewidth": 0,
             "ticks": ""
            },
            "type": "mesh3d"
           }
          ],
          "parcoords": [
           {
            "line": {
             "colorbar": {
              "outlinewidth": 0,
              "ticks": ""
             }
            },
            "type": "parcoords"
           }
          ],
          "pie": [
           {
            "automargin": true,
            "type": "pie"
           }
          ],
          "scatter": [
           {
            "fillpattern": {
             "fillmode": "overlay",
             "size": 10,
             "solidity": 0.2
            },
            "type": "scatter"
           }
          ],
          "scatter3d": [
           {
            "line": {
             "colorbar": {
              "outlinewidth": 0,
              "ticks": ""
             }
            },
            "marker": {
             "colorbar": {
              "outlinewidth": 0,
              "ticks": ""
             }
            },
            "type": "scatter3d"
           }
          ],
          "scattercarpet": [
           {
            "marker": {
             "colorbar": {
              "outlinewidth": 0,
              "ticks": ""
             }
            },
            "type": "scattercarpet"
           }
          ],
          "scattergeo": [
           {
            "marker": {
             "colorbar": {
              "outlinewidth": 0,
              "ticks": ""
             }
            },
            "type": "scattergeo"
           }
          ],
          "scattergl": [
           {
            "marker": {
             "colorbar": {
              "outlinewidth": 0,
              "ticks": ""
             }
            },
            "type": "scattergl"
           }
          ],
          "scattermap": [
           {
            "marker": {
             "colorbar": {
              "outlinewidth": 0,
              "ticks": ""
             }
            },
            "type": "scattermap"
           }
          ],
          "scattermapbox": [
           {
            "marker": {
             "colorbar": {
              "outlinewidth": 0,
              "ticks": ""
             }
            },
            "type": "scattermapbox"
           }
          ],
          "scatterpolar": [
           {
            "marker": {
             "colorbar": {
              "outlinewidth": 0,
              "ticks": ""
             }
            },
            "type": "scatterpolar"
           }
          ],
          "scatterpolargl": [
           {
            "marker": {
             "colorbar": {
              "outlinewidth": 0,
              "ticks": ""
             }
            },
            "type": "scatterpolargl"
           }
          ],
          "scatterternary": [
           {
            "marker": {
             "colorbar": {
              "outlinewidth": 0,
              "ticks": ""
             }
            },
            "type": "scatterternary"
           }
          ],
          "surface": [
           {
            "colorbar": {
             "outlinewidth": 0,
             "ticks": ""
            },
            "colorscale": [
             [
              0,
              "#0d0887"
             ],
             [
              0.1111111111111111,
              "#46039f"
             ],
             [
              0.2222222222222222,
              "#7201a8"
             ],
             [
              0.3333333333333333,
              "#9c179e"
             ],
             [
              0.4444444444444444,
              "#bd3786"
             ],
             [
              0.5555555555555556,
              "#d8576b"
             ],
             [
              0.6666666666666666,
              "#ed7953"
             ],
             [
              0.7777777777777778,
              "#fb9f3a"
             ],
             [
              0.8888888888888888,
              "#fdca26"
             ],
             [
              1,
              "#f0f921"
             ]
            ],
            "type": "surface"
           }
          ],
          "table": [
           {
            "cells": {
             "fill": {
              "color": "#EBF0F8"
             },
             "line": {
              "color": "white"
             }
            },
            "header": {
             "fill": {
              "color": "#C8D4E3"
             },
             "line": {
              "color": "white"
             }
            },
            "type": "table"
           }
          ]
         },
         "layout": {
          "annotationdefaults": {
           "arrowcolor": "#2a3f5f",
           "arrowhead": 0,
           "arrowwidth": 1
          },
          "autotypenumbers": "strict",
          "coloraxis": {
           "colorbar": {
            "outlinewidth": 0,
            "ticks": ""
           }
          },
          "colorscale": {
           "diverging": [
            [
             0,
             "#8e0152"
            ],
            [
             0.1,
             "#c51b7d"
            ],
            [
             0.2,
             "#de77ae"
            ],
            [
             0.3,
             "#f1b6da"
            ],
            [
             0.4,
             "#fde0ef"
            ],
            [
             0.5,
             "#f7f7f7"
            ],
            [
             0.6,
             "#e6f5d0"
            ],
            [
             0.7,
             "#b8e186"
            ],
            [
             0.8,
             "#7fbc41"
            ],
            [
             0.9,
             "#4d9221"
            ],
            [
             1,
             "#276419"
            ]
           ],
           "sequential": [
            [
             0,
             "#0d0887"
            ],
            [
             0.1111111111111111,
             "#46039f"
            ],
            [
             0.2222222222222222,
             "#7201a8"
            ],
            [
             0.3333333333333333,
             "#9c179e"
            ],
            [
             0.4444444444444444,
             "#bd3786"
            ],
            [
             0.5555555555555556,
             "#d8576b"
            ],
            [
             0.6666666666666666,
             "#ed7953"
            ],
            [
             0.7777777777777778,
             "#fb9f3a"
            ],
            [
             0.8888888888888888,
             "#fdca26"
            ],
            [
             1,
             "#f0f921"
            ]
           ],
           "sequentialminus": [
            [
             0,
             "#0d0887"
            ],
            [
             0.1111111111111111,
             "#46039f"
            ],
            [
             0.2222222222222222,
             "#7201a8"
            ],
            [
             0.3333333333333333,
             "#9c179e"
            ],
            [
             0.4444444444444444,
             "#bd3786"
            ],
            [
             0.5555555555555556,
             "#d8576b"
            ],
            [
             0.6666666666666666,
             "#ed7953"
            ],
            [
             0.7777777777777778,
             "#fb9f3a"
            ],
            [
             0.8888888888888888,
             "#fdca26"
            ],
            [
             1,
             "#f0f921"
            ]
           ]
          },
          "colorway": [
           "#636efa",
           "#EF553B",
           "#00cc96",
           "#ab63fa",
           "#FFA15A",
           "#19d3f3",
           "#FF6692",
           "#B6E880",
           "#FF97FF",
           "#FECB52"
          ],
          "font": {
           "color": "#2a3f5f"
          },
          "geo": {
           "bgcolor": "white",
           "lakecolor": "white",
           "landcolor": "#E5ECF6",
           "showlakes": true,
           "showland": true,
           "subunitcolor": "white"
          },
          "hoverlabel": {
           "align": "left"
          },
          "hovermode": "closest",
          "mapbox": {
           "style": "light"
          },
          "paper_bgcolor": "white",
          "plot_bgcolor": "#E5ECF6",
          "polar": {
           "angularaxis": {
            "gridcolor": "white",
            "linecolor": "white",
            "ticks": ""
           },
           "bgcolor": "#E5ECF6",
           "radialaxis": {
            "gridcolor": "white",
            "linecolor": "white",
            "ticks": ""
           }
          },
          "scene": {
           "xaxis": {
            "backgroundcolor": "#E5ECF6",
            "gridcolor": "white",
            "gridwidth": 2,
            "linecolor": "white",
            "showbackground": true,
            "ticks": "",
            "zerolinecolor": "white"
           },
           "yaxis": {
            "backgroundcolor": "#E5ECF6",
            "gridcolor": "white",
            "gridwidth": 2,
            "linecolor": "white",
            "showbackground": true,
            "ticks": "",
            "zerolinecolor": "white"
           },
           "zaxis": {
            "backgroundcolor": "#E5ECF6",
            "gridcolor": "white",
            "gridwidth": 2,
            "linecolor": "white",
            "showbackground": true,
            "ticks": "",
            "zerolinecolor": "white"
           }
          },
          "shapedefaults": {
           "line": {
            "color": "#2a3f5f"
           }
          },
          "ternary": {
           "aaxis": {
            "gridcolor": "white",
            "linecolor": "white",
            "ticks": ""
           },
           "baxis": {
            "gridcolor": "white",
            "linecolor": "white",
            "ticks": ""
           },
           "bgcolor": "#E5ECF6",
           "caxis": {
            "gridcolor": "white",
            "linecolor": "white",
            "ticks": ""
           }
          },
          "title": {
           "x": 0.05
          },
          "xaxis": {
           "automargin": true,
           "gridcolor": "white",
           "linecolor": "white",
           "ticks": "",
           "title": {
            "standoff": 15
           },
           "zerolinecolor": "white",
           "zerolinewidth": 2
          },
          "yaxis": {
           "automargin": true,
           "gridcolor": "white",
           "linecolor": "white",
           "ticks": "",
           "title": {
            "standoff": 15
           },
           "zerolinecolor": "white",
           "zerolinewidth": 2
          }
         }
        },
        "title": {
         "text": "GPS track (lat/lon) - connected"
        }
       }
      }
     },
     "metadata": {},
     "output_type": "display_data"
    }
   ],
   "source": [
    "import plotly.express as px\n",
    "\n",
    "\n",
    "center_lat = float(pose_df['lat'].mean())\n",
    "center_lon = float(pose_df['lon'].mean())\n",
    "\n",
    "# fig = px.scatter_map(\n",
    "#     pose_df,\n",
    "#     lat='lat',\n",
    "#     lon='lon',\n",
    "#     color='vel',\n",
    "#     zoom=17,\n",
    "#     center={\"lat\": center_lat, \"lon\": center_lon},\n",
    "#     hover_data=['lat', 'lon', 'vel'],\n",
    "#     title=\"GPS track (lat/lon)\"\n",
    "# )\n",
    "\n",
    "fig = px.line_map(\n",
    "    pose_df,\n",
    "    lat='lat',\n",
    "    lon='lon',\n",
    "    zoom=15,\n",
    "    center={\"lat\": center_lat, \"lon\": center_lon},\n",
    "    hover_data=['lat', 'lon', 'vel'],\n",
    "    title=\"GPS track (lat/lon) - connected\"\n",
    ")\n",
    "\n",
    "fig.show()"
   ]
  }
 ],
 "metadata": {
  "kernelspec": {
   "display_name": ".env",
   "language": "python",
   "name": "python3"
  },
  "language_info": {
   "codemirror_mode": {
    "name": "ipython",
    "version": 3
   },
   "file_extension": ".py",
   "mimetype": "text/x-python",
   "name": "python",
   "nbconvert_exporter": "python",
   "pygments_lexer": "ipython3",
   "version": "3.12.3"
  }
 },
 "nbformat": 4,
 "nbformat_minor": 5
}
