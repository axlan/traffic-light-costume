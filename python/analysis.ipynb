{
 "cells": [
  {
   "cell_type": "code",
   "execution_count": null,
   "id": "10a7e1bf",
   "metadata": {},
   "outputs": [],
   "source": [
    "import numpy as np\n",
    "import pandas as pd\n",
    "\n",
    "DATA_FILE = \"../data/LOG004.BIN\"\n",
    "\n",
    "# dtype matches the packed C struct of three 32-bit floats (little-endian)\n",
    "RMC_DTYPE = np.dtype([('lat', '<f4'), ('lon', '<f4'), ('vel', '<f4')])\n",
    "\n",
    "data = np.fromfile(DATA_FILE, dtype=RMC_DTYPE)\n",
    "\n",
    "\n",
    "pose_df = pd.DataFrame(data)\n",
    "\n",
    "print(pose_df.head())\n",
    "\n"
   ]
  },
  {
   "cell_type": "code",
   "execution_count": null,
   "id": "4fb7134b",
   "metadata": {},
   "outputs": [],
   "source": [
    "# Convert collected pose_data into a DataFrame and plot relative trajectory\n",
    "import plotly.express as px\n",
    "import math\n",
    "\n",
    "\n",
    "# Reference (start) point\n",
    "lat0 = pose_df.loc[0, 'lat']\n",
    "lon0 = pose_df.loc[0, 'lon']\n",
    "\n",
    "# Approximate conversion: meters per degree latitude ~= 111132, longitude scaled by cos(lat)\n",
    "meters_per_deg_lat = 111132.0\n",
    "meters_per_deg_lon = 111320.0 * math.cos(math.radians(lat0))\n",
    "\n",
    "pose_df['x_m'] = (pose_df['lon'] - lon0) * meters_per_deg_lon\n",
    "pose_df['y_m'] = (pose_df['lat'] - lat0) * meters_per_deg_lat\n",
    "\n",
    "# Create a simple scatter plot of trajectory (x east, y north)\n",
    "fig = px.scatter(pose_df, x='x_m', y='y_m', color='vel',\n",
    "                    title='Trajectory relative to start (meters)',\n",
    "                    labels={'x_m': 'East (m)', 'y_m': 'North (m)', 'vel': 'Speed (knots)'} ,\n",
    "                    hover_data=['lat', 'lon', 'vel'])\n",
    "fig.update_traces(mode='lines+markers')\n",
    "fig.update_layout(yaxis=dict(scaleanchor='x', scaleratio=1))\n",
    "fig.show()"
   ]
  },
  {
   "cell_type": "code",
   "execution_count": null,
   "id": "bc4b98fe",
   "metadata": {},
   "outputs": [],
   "source": [
    "# Convert collected pose_data into a DataFrame and plot relative trajectory\n",
    "import plotly.express as px\n",
    "\n",
    "\n",
    "pose_df['vel_mean'] = pose_df['vel'].rolling(window=5, min_periods=1, center=False).mean()\n",
    "\n",
    "\n",
    "\n",
    "\n",
    "# Create a simple scatter plot of trajectory (x east, y north)\n",
    "fig = px.scatter(x=range(len(pose_df)), y=pose_df['vel_mean'])\n",
    "fig.update_traces(mode='lines+markers')\n",
    "fig.show()"
   ]
  }
 ],
 "metadata": {
  "kernelspec": {
   "display_name": ".env",
   "language": "python",
   "name": "python3"
  },
  "language_info": {
   "codemirror_mode": {
    "name": "ipython",
    "version": 3
   },
   "file_extension": ".py",
   "mimetype": "text/x-python",
   "name": "python",
   "nbconvert_exporter": "python",
   "pygments_lexer": "ipython3",
   "version": "3.12.3"
  }
 },
 "nbformat": 4,
 "nbformat_minor": 5
}
